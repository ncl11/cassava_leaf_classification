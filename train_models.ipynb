{
 "cells": [
  {
   "cell_type": "code",
   "execution_count": null,
   "metadata": {
    "id": "smoking-permission"
   },
   "outputs": [],
   "source": [
    "# External package imports\n",
    "import tensorflow as tf\n",
    "import glob\n",
    "import os\n",
    "import numpy as np\n",
    "import matplotlib.pyplot as plt\n",
    "from keras.callbacks import EarlyStopping\n",
    "from data_loader import initialize_dataset\n",
    "\n",
    "import keras\n",
    "from keras.layers import Dense, Dropout, Input, MaxPooling2D, ZeroPadding2D, Conv2D, Flatten\n",
    "from keras.models import Sequential, Model\n",
    "from keras.losses import categorical_crossentropy\n",
    "from keras.optimizers import Adam, SGD\n",
    "\n",
    "from tensorflow.keras.layers import MaxPool2D, AveragePooling2D, GlobalAveragePooling2D"
   ]
  },
  {
   "cell_type": "code",
   "execution_count": null,
   "metadata": {
    "colab": {
     "base_uri": "https://localhost:8080/"
    },
    "id": "Ug8smvanGqKW",
    "outputId": "ac37b0da-4352-4065-9fc3-85009023ba05"
   },
   "outputs": [
    {
     "name": "stdout",
     "output_type": "stream",
     "text": [
      "Mounted at /content/drive\n"
     ]
    }
   ],
   "source": [
    "from google.colab import drive\n",
    "drive.mount('/content/drive')"
   ]
  },
  {
   "cell_type": "code",
   "execution_count": null,
   "metadata": {
    "id": "FQ3NeVX6--Kl"
   },
   "outputs": [],
   "source": [
    "path = \"/content/drive/MyDrive/midterm_project/cassava-leaf-disease-classification/train_tfrecords2\""
   ]
  },
  {
   "cell_type": "code",
   "execution_count": null,
   "metadata": {
    "id": "foreign-secret"
   },
   "outputs": [],
   "source": [
    "# Get a list of the training record files\n",
    "tfrecord_files = glob.glob(os.path.join(path, \"*.tfrec\"))\n",
    "\n",
    "# Define the number of files for training, 70% of files\n",
    "n_file_train = int(0.7 * len(tfrecord_files))\n",
    "\n",
    "# Split the record files into 70% training and 30% validation\n",
    "tfrecord_files_train = tfrecord_files[:n_file_train]\n",
    "tfrecord_files_valid = tfrecord_files[n_file_train:]"
   ]
  },
  {
   "cell_type": "code",
   "execution_count": null,
   "metadata": {
    "id": "distributed-antarctica"
   },
   "outputs": [],
   "source": [
    "# Define batch size\n",
    "BATCH_SIZE = 32\n",
    "\n",
    "# Define processed image size\n",
    "HEIGHT = 258\n",
    "WIDTH = HEIGHT\n",
    "#IMG_SIZE = (HEIGHT, WIDTH)"
   ]
  },
  {
   "cell_type": "code",
   "execution_count": null,
   "metadata": {
    "id": "computational-judges",
    "scrolled": false
   },
   "outputs": [],
   "source": [
    "# Initialize the training data loader, with random flipping and rotations\n",
    "dataset_train = initialize_dataset(tfrecord_files_train, batch_size=BATCH_SIZE, img_size=(HEIGHT, WIDTH), flip=True, rot=(-1, 1))\n",
    "\n",
    "# Initialize the validation loader, with no flipping or rotations\n",
    "dataset_valid = initialize_dataset(tfrecord_files_valid, img_size=(HEIGHT, WIDTH))"
   ]
  },
  {
   "cell_type": "code",
   "execution_count": null,
   "metadata": {
    "colab": {
     "base_uri": "https://localhost:8080/"
    },
    "id": "acting-serve",
    "outputId": "b7066e27-445f-45bb-bd13-4cb07cbd46ba"
   },
   "outputs": [
    {
     "name": "stdout",
     "output_type": "stream",
     "text": [
      "Downloading data from https://storage.googleapis.com/tensorflow/keras-applications/resnet/resnet101_weights_tf_dim_ordering_tf_kernels_notop.h5\n",
      "171450368/171446536 [==============================] - 1s 0us/step\n",
      "Epoch 1/6\n",
      "460/460 [==============================] - 588s 1s/step - loss: 1.4818 - accuracy: 0.6024 - val_loss: 1.8458 - val_accuracy: 0.7148\n",
      "Epoch 2/6\n",
      "460/460 [==============================] - 557s 1s/step - loss: 0.9010 - accuracy: 0.7205 - val_loss: 1.4153 - val_accuracy: 0.7534\n",
      "Epoch 3/6\n",
      "460/460 [==============================] - 558s 1s/step - loss: 0.7309 - accuracy: 0.7642 - val_loss: 1.0980 - val_accuracy: 0.7766\n",
      "Epoch 4/6\n",
      "460/460 [==============================] - 559s 1s/step - loss: 0.6439 - accuracy: 0.7858 - val_loss: 1.2291 - val_accuracy: 0.7875\n",
      "Epoch 5/6\n",
      "460/460 [==============================] - 559s 1s/step - loss: 0.5833 - accuracy: 0.8009 - val_loss: 1.3404 - val_accuracy: 0.7850\n",
      "Epoch 6/6\n",
      "460/460 [==============================] - 558s 1s/step - loss: 0.5465 - accuracy: 0.8166 - val_loss: 0.9866 - val_accuracy: 0.8115\n"
     ]
    }
   ],
   "source": [
    "initial_learning_rate = 0.00002\n",
    "lr_schedule = tf.keras.optimizers.schedules.ExponentialDecay(\n",
    "    initial_learning_rate,\n",
    "    decay_steps=1000,\n",
    "    decay_rate=0.9)\n",
    "opt = tf.keras.optimizers.RMSprop(learning_rate=lr_schedule)\n",
    "\n",
    "early_stop = EarlyStopping(monitor='val_accuracy', mode='max', \n",
    "                       patience=4, restore_best_weights=True, verbose=1)\n",
    "\n",
    "def build_ResNet():\n",
    "    base_model = tf.keras.applications.ResNet101(\n",
    "        include_top=False,\n",
    "        weights=\"imagenet\",\n",
    "        input_tensor=None,\n",
    "        input_shape=(WIDTH, HEIGHT, 3),\n",
    "        pooling=None,\n",
    "        classes=1000\n",
    "    )\n",
    "    #base_model.trainable = False\n",
    "    x = base_model.output\n",
    "    model = Flatten()(x)\n",
    "    model = Dropout(rate=0.25)(model)\n",
    "    predictions = Dense(5, activation = \"softmax\")(model)\n",
    "    model = Model(inputs = base_model.input, outputs = predictions)\n",
    "    return model\n",
    "ResNet = build_ResNet()\n",
    "ResNet.compile(optimizer=opt, loss='sparse_categorical_crossentropy', metrics=['accuracy'])\n",
    "\n",
    "train_hist = ResNet.fit(\n",
    "    x=dataset_train,\n",
    "    epochs=6,\n",
    "    validation_data=dataset_valid,\n",
    "    callbacks = [early_stop]\n",
    ")"
   ]
  },
  {
   "cell_type": "code",
   "execution_count": null,
   "metadata": {
    "colab": {
     "background_save": true,
     "base_uri": "https://localhost:8080/"
    },
    "id": "dNFHv2_Rfnpz",
    "outputId": "5a394539-69ba-4956-8936-b64f04213840"
   },
   "outputs": [
    {
     "name": "stdout",
     "output_type": "stream",
     "text": [
      "Downloading data from https://storage.googleapis.com/tensorflow/keras-applications/inception_resnet_v2/inception_resnet_v2_weights_tf_dim_ordering_tf_kernels_notop.h5\n",
      "219062272/219055592 [==============================] - 2s 0us/step\n",
      "Epoch 1/6\n",
      "460/460 [==============================] - 655s 1s/step - loss: 1.0157 - accuracy: 0.6386 - val_loss: 1.3324 - val_accuracy: 0.7513\n",
      "Epoch 2/6\n",
      "460/460 [==============================] - 614s 1s/step - loss: 0.6867 - accuracy: 0.7512 - val_loss: 1.5809 - val_accuracy: 0.7664\n",
      "Epoch 3/6\n",
      "460/460 [==============================] - 614s 1s/step - loss: 0.5752 - accuracy: 0.7935 - val_loss: 1.0000 - val_accuracy: 0.8015\n",
      "Epoch 4/6\n",
      "460/460 [==============================] - 617s 1s/step - loss: 0.4993 - accuracy: 0.8236 - val_loss: 1.2758 - val_accuracy: 0.8121\n",
      "Epoch 5/6\n",
      "460/460 [==============================] - 616s 1s/step - loss: 0.4390 - accuracy: 0.8465 - val_loss: 0.9979 - val_accuracy: 0.8218\n",
      "Epoch 6/6\n",
      "460/460 [==============================] - 614s 1s/step - loss: 0.4041 - accuracy: 0.8559 - val_loss: 1.5922 - val_accuracy: 0.8106\n"
     ]
    }
   ],
   "source": [
    "# This model was trained on 96x96 images\n",
    "\n",
    "initial_learning_rate = 0.00004\n",
    "lr_schedule = tf.keras.optimizers.schedules.ExponentialDecay(\n",
    "    initial_learning_rate,\n",
    "    decay_steps=1000,\n",
    "    decay_rate=0.9)\n",
    "   # staircase=True)\n",
    "opt = tf.keras.optimizers.RMSprop(learning_rate=lr_schedule)\n",
    "\n",
    "early_stop = EarlyStopping(monitor='val_accuracy', mode='max', \n",
    "                       patience=4, restore_best_weights=True, verbose=1)\n",
    "  \n",
    "def build_IncepNet():\n",
    "    base_model =   tf.keras.applications.InceptionResNetV2(\n",
    "        include_top=False,\n",
    "        weights=\"imagenet\",\n",
    "        input_tensor=None,\n",
    "        input_shape=(WIDTH, HEIGHT, 3),\n",
    "        pooling=None,\n",
    "      )\n",
    "    #base_model.trainable = False\n",
    "    x = base_model.output\n",
    "    model = Flatten()(x)\n",
    "    #model = Dense(128, activation = \"relu\")(model)\n",
    "    model = Dropout(rate=0.25)(model)\n",
    "    predictions = Dense(5, activation = \"softmax\")(model)\n",
    "    model = Model(inputs = base_model.input, outputs = predictions)\n",
    "    return model\n",
    "IncepNet = build_IncepNet()\n",
    "IncepNet.compile(optimizer=opt, loss='sparse_categorical_crossentropy', metrics=['accuracy'])\n",
    "\n",
    "train_hist = IncepNet.fit(\n",
    "    x=dataset_train,\n",
    "    epochs=6,\n",
    "    validation_data=dataset_valid,\n",
    "    callbacks = [early_stop]\n",
    ")"
   ]
  },
  {
   "cell_type": "code",
   "execution_count": null,
   "metadata": {
    "colab": {
     "base_uri": "https://localhost:8080/"
    },
    "id": "3UZDsG6UGNX3",
    "outputId": "5af3c928-9aeb-4ce2-b36a-9dc2aab6e32e"
   },
   "outputs": [
    {
     "name": "stdout",
     "output_type": "stream",
     "text": [
      "Downloading data from https://storage.googleapis.com/keras-applications/efficientnetb1_notop.h5\n",
      "27025408/27018416 [==============================] - 0s 0us/step\n",
      "Epoch 1/10\n",
      "460/460 [==============================] - 502s 982ms/step - loss: 1.1646 - accuracy: 0.6143 - val_loss: 0.7691 - val_accuracy: 0.7341\n",
      "Epoch 2/10\n",
      "460/460 [==============================] - 439s 953ms/step - loss: 0.7820 - accuracy: 0.7373 - val_loss: 0.7293 - val_accuracy: 0.7537\n",
      "Epoch 3/10\n",
      "460/460 [==============================] - 440s 956ms/step - loss: 0.6978 - accuracy: 0.7632 - val_loss: 0.6389 - val_accuracy: 0.7837\n",
      "Epoch 4/10\n",
      "460/460 [==============================] - 442s 961ms/step - loss: 0.6071 - accuracy: 0.7883 - val_loss: 0.6299 - val_accuracy: 0.7899\n",
      "Epoch 5/10\n",
      "460/460 [==============================] - 440s 955ms/step - loss: 0.5708 - accuracy: 0.8032 - val_loss: 0.5960 - val_accuracy: 0.8037\n",
      "Epoch 6/10\n",
      "460/460 [==============================] - 438s 951ms/step - loss: 0.5339 - accuracy: 0.8196 - val_loss: 0.6064 - val_accuracy: 0.8016\n",
      "Epoch 7/10\n",
      "460/460 [==============================] - 440s 956ms/step - loss: 0.5183 - accuracy: 0.8247 - val_loss: 0.5912 - val_accuracy: 0.8105\n",
      "Epoch 8/10\n",
      "460/460 [==============================] - 437s 950ms/step - loss: 0.4964 - accuracy: 0.8318 - val_loss: 0.5804 - val_accuracy: 0.8157\n",
      "Epoch 9/10\n",
      "460/460 [==============================] - 440s 955ms/step - loss: 0.4621 - accuracy: 0.8433 - val_loss: 0.5960 - val_accuracy: 0.8124\n",
      "Epoch 10/10\n",
      "460/460 [==============================] - 438s 952ms/step - loss: 0.4514 - accuracy: 0.8458 - val_loss: 0.6041 - val_accuracy: 0.8142\n"
     ]
    }
   ],
   "source": [
    "# Some high level ideas taken from https://www.kaggle.com/dimitreoliveira/cassava-leaf-disease-tpu-tensorflow-training\n",
    "initial_learning_rate = 0.00004\n",
    "lr_schedule = tf.keras.optimizers.schedules.ExponentialDecay(\n",
    "    initial_learning_rate,\n",
    "    decay_steps=1000,\n",
    "    decay_rate=0.9)\n",
    "opt = tf.keras.optimizers.RMSprop(learning_rate=lr_schedule)\n",
    "\n",
    "early_stop = EarlyStopping(monitor='val_accuracy', mode='max', \n",
    "                       patience=4, restore_best_weights=True, verbose=1)\n",
    "  \n",
    "def build_EffNet():\n",
    "    base_model = tf.keras.applications.EfficientNetB1(\n",
    "        include_top=False,\n",
    "        weights=\"imagenet\",\n",
    "        input_tensor=None,\n",
    "        input_shape=(HEIGHT, WIDTH, 3),\n",
    "        pooling=None,\n",
    "      )\n",
    "    #base_model.trainable = False\n",
    "    x = base_model.output\n",
    "    model = Flatten()(x)\n",
    "    model = Dropout(rate=0.25)(model)\n",
    "    predictions = Dense(5, activation = \"softmax\")(model)\n",
    "    model = Model(inputs = base_model.input, outputs = predictions)\n",
    "    return model\n",
    "EffNet = build_EffNet()\n",
    "EffNet.compile(optimizer=opt, loss='sparse_categorical_crossentropy', metrics=['accuracy'])\n",
    "\n",
    "train_hist = EffNet.fit(\n",
    "    x=dataset_train,\n",
    "    epochs=10,\n",
    "    validation_data=dataset_valid,\n",
    "    callbacks = [early_stop]\n",
    ")"
   ]
  },
  {
   "cell_type": "code",
   "execution_count": null,
   "metadata": {
    "id": "SJcov_A2TAMB"
   },
   "outputs": [],
   "source": []
  },
  {
   "cell_type": "code",
   "execution_count": null,
   "metadata": {
    "id": "Tn0hlL0ucpH1"
   },
   "outputs": [],
   "source": []
  }
 ],
 "metadata": {
  "accelerator": "GPU",
  "colab": {
   "collapsed_sections": [],
   "name": "train_models.ipynb",
   "provenance": [],
   "toc_visible": true
  },
  "kernelspec": {
   "display_name": "Python 3",
   "language": "python",
   "name": "python3"
  },
  "language_info": {
   "codemirror_mode": {
    "name": "ipython",
    "version": 3
   },
   "file_extension": ".py",
   "mimetype": "text/x-python",
   "name": "python",
   "nbconvert_exporter": "python",
   "pygments_lexer": "ipython3",
   "version": "3.8.3"
  }
 },
 "nbformat": 4,
 "nbformat_minor": 5
}
