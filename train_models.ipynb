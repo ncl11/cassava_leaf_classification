{
  "nbformat": 4,
  "nbformat_minor": 5,
  "metadata": {
    "accelerator": "GPU",
    "colab": {
      "name": "train_models.ipynb",
      "provenance": [],
      "collapsed_sections": [],
      "toc_visible": true
    },
    "kernelspec": {
      "display_name": "Python 3",
      "language": "python",
      "name": "python3"
    },
    "language_info": {
      "codemirror_mode": {
        "name": "ipython",
        "version": 3
      },
      "file_extension": ".py",
      "mimetype": "text/x-python",
      "name": "python",
      "nbconvert_exporter": "python",
      "pygments_lexer": "ipython3",
      "version": "3.8.5"
    }
  },
  "cells": [
    {
      "cell_type": "code",
      "metadata": {
        "id": "smoking-permission"
      },
      "source": [
        "# External package imports\n",
        "import tensorflow as tf\n",
        "import glob\n",
        "import os\n",
        "import numpy as np\n",
        "import matplotlib.pyplot as plt\n",
        "from keras.callbacks import EarlyStopping\n",
        "from data_loader import initialize_dataset\n",
        "\n",
        "import keras\n",
        "from keras.layers import Dense, Dropout, Input, MaxPooling2D, ZeroPadding2D, Conv2D, Flatten\n",
        "from keras.models import Sequential, Model\n",
        "from keras.losses import categorical_crossentropy\n",
        "from keras.optimizers import Adam, SGD\n",
        "\n",
        "from tensorflow.keras.layers import MaxPool2D, AveragePooling2D, GlobalAveragePooling2D"
      ],
      "id": "smoking-permission",
      "execution_count": null,
      "outputs": []
    },
    {
      "cell_type": "code",
      "metadata": {
        "colab": {
          "base_uri": "https://localhost:8080/"
        },
        "id": "Ug8smvanGqKW",
        "outputId": "ac37b0da-4352-4065-9fc3-85009023ba05"
      },
      "source": [
        "from google.colab import drive\r\n",
        "drive.mount('/content/drive')"
      ],
      "id": "Ug8smvanGqKW",
      "execution_count": null,
      "outputs": [
        {
          "output_type": "stream",
          "text": [
            "Mounted at /content/drive\n"
          ],
          "name": "stdout"
        }
      ]
    },
    {
      "cell_type": "code",
      "metadata": {
        "id": "FQ3NeVX6--Kl"
      },
      "source": [
        "path = \"/content/drive/MyDrive/midterm_project/cassava-leaf-disease-classification/train_tfrecords2\""
      ],
      "id": "FQ3NeVX6--Kl",
      "execution_count": null,
      "outputs": []
    },
    {
      "cell_type": "code",
      "metadata": {
        "id": "foreign-secret"
      },
      "source": [
        "# Get a list of the training record files\n",
        "tfrecord_files = glob.glob(os.path.join(path, \"*.tfrec\"))\n",
        "\n",
        "# Define the number of files for training, 70% of files\n",
        "n_file_train = int(0.7 * len(tfrecord_files))\n",
        "\n",
        "# Split the record files into 70% training and 30% validation\n",
        "tfrecord_files_train = tfrecord_files[:n_file_train]\n",
        "tfrecord_files_valid = tfrecord_files[n_file_train:]"
      ],
      "id": "foreign-secret",
      "execution_count": null,
      "outputs": []
    },
    {
      "cell_type": "code",
      "metadata": {
        "id": "distributed-antarctica"
      },
      "source": [
        "# Define batch size\n",
        "BATCH_SIZE = 32\n",
        "\n",
        "# Define processed image size\n",
        "HEIGHT = 258\n",
        "WIDTH = HEIGHT\n",
        "#IMG_SIZE = (HEIGHT, WIDTH)"
      ],
      "id": "distributed-antarctica",
      "execution_count": null,
      "outputs": []
    },
    {
      "cell_type": "code",
      "metadata": {
        "id": "computational-judges",
        "scrolled": false
      },
      "source": [
        "# Initialize the training data loader, with random flipping and rotations\n",
        "dataset_train = initialize_dataset(tfrecord_files_train, batch_size=BATCH_SIZE, img_size=(HEIGHT, WIDTH), flip=True, rot=(-1, 1))\n",
        "\n",
        "# Initialize the validation loader, with no flipping or rotations\n",
        "dataset_valid = initialize_dataset(tfrecord_files_valid, img_size=(HEIGHT, WIDTH))"
      ],
      "id": "computational-judges",
      "execution_count": null,
      "outputs": []
    },
    {
      "cell_type": "code",
      "metadata": {
        "colab": {
          "base_uri": "https://localhost:8080/"
        },
        "id": "acting-serve",
        "outputId": "b7066e27-445f-45bb-bd13-4cb07cbd46ba"
      },
      "source": [
        "initial_learning_rate = 0.00002\r\n",
        "lr_schedule = tf.keras.optimizers.schedules.ExponentialDecay(\r\n",
        "    initial_learning_rate,\r\n",
        "    decay_steps=1000,\r\n",
        "    decay_rate=0.9)\r\n",
        "opt = tf.keras.optimizers.RMSprop(learning_rate=lr_schedule)\r\n",
        "\r\n",
        "early_stop = EarlyStopping(monitor='val_accuracy', mode='max', \r\n",
        "                       patience=4, restore_best_weights=True, verbose=1)\r\n",
        "\r\n",
        "def build_ResNet():\r\n",
        "    base_model = tf.keras.applications.ResNet101(\r\n",
        "        include_top=False,\r\n",
        "        weights=\"imagenet\",\r\n",
        "        input_tensor=None,\r\n",
        "        input_shape=(WIDTH, HEIGHT, 3),\r\n",
        "        pooling=None,\r\n",
        "        classes=1000\r\n",
        "    )\r\n",
        "    #base_model.trainable = False\r\n",
        "    x = base_model.output\r\n",
        "    model = Flatten()(x)\r\n",
        "    model = Dropout(rate=0.25)(model)\r\n",
        "    predictions = Dense(5, activation = \"softmax\")(model)\r\n",
        "    model = Model(inputs = base_model.input, outputs = predictions)\r\n",
        "    return model\r\n",
        "ResNet = build_ResNet()\r\n",
        "ResNet.compile(optimizer=opt, loss='sparse_categorical_crossentropy', metrics=['accuracy'])\r\n",
        "\r\n",
        "train_hist = ResNet.fit(\r\n",
        "    x=dataset_train,\r\n",
        "    epochs=6,\r\n",
        "    validation_data=dataset_valid,\r\n",
        "    callbacks = [early_stop]\r\n",
        ")"
      ],
      "id": "acting-serve",
      "execution_count": null,
      "outputs": [
        {
          "output_type": "stream",
          "text": [
            "Downloading data from https://storage.googleapis.com/tensorflow/keras-applications/resnet/resnet101_weights_tf_dim_ordering_tf_kernels_notop.h5\n",
            "171450368/171446536 [==============================] - 1s 0us/step\n",
            "Epoch 1/6\n",
            "460/460 [==============================] - 588s 1s/step - loss: 1.4818 - accuracy: 0.6024 - val_loss: 1.8458 - val_accuracy: 0.7148\n",
            "Epoch 2/6\n",
            "460/460 [==============================] - 557s 1s/step - loss: 0.9010 - accuracy: 0.7205 - val_loss: 1.4153 - val_accuracy: 0.7534\n",
            "Epoch 3/6\n",
            "460/460 [==============================] - 558s 1s/step - loss: 0.7309 - accuracy: 0.7642 - val_loss: 1.0980 - val_accuracy: 0.7766\n",
            "Epoch 4/6\n",
            "460/460 [==============================] - 559s 1s/step - loss: 0.6439 - accuracy: 0.7858 - val_loss: 1.2291 - val_accuracy: 0.7875\n",
            "Epoch 5/6\n",
            "460/460 [==============================] - 559s 1s/step - loss: 0.5833 - accuracy: 0.8009 - val_loss: 1.3404 - val_accuracy: 0.7850\n",
            "Epoch 6/6\n",
            "460/460 [==============================] - 558s 1s/step - loss: 0.5465 - accuracy: 0.8166 - val_loss: 0.9866 - val_accuracy: 0.8115\n"
          ],
          "name": "stdout"
        }
      ]
    },
    {
      "cell_type": "code",
      "metadata": {
        "colab": {
          "background_save": true,
          "base_uri": "https://localhost:8080/"
        },
        "id": "dNFHv2_Rfnpz",
        "outputId": "5a394539-69ba-4956-8936-b64f04213840"
      },
      "source": [
        "# This model was trained on 96x96 images\r\n",
        "\r\n",
        "initial_learning_rate = 0.00004\r\n",
        "lr_schedule = tf.keras.optimizers.schedules.ExponentialDecay(\r\n",
        "    initial_learning_rate,\r\n",
        "    decay_steps=1000,\r\n",
        "    decay_rate=0.9)\r\n",
        "   # staircase=True)\r\n",
        "opt = tf.keras.optimizers.RMSprop(learning_rate=lr_schedule)\r\n",
        "\r\n",
        "early_stop = EarlyStopping(monitor='val_accuracy', mode='max', \r\n",
        "                       patience=4, restore_best_weights=True, verbose=1)\r\n",
        "  \r\n",
        "def build_IncepNet():\r\n",
        "    base_model =   tf.keras.applications.InceptionResNetV2(\r\n",
        "        include_top=False,\r\n",
        "        weights=\"imagenet\",\r\n",
        "        input_tensor=None,\r\n",
        "        input_shape=(WIDTH, HEIGHT, 3),\r\n",
        "        pooling=None,\r\n",
        "      )\r\n",
        "    #base_model.trainable = False\r\n",
        "    x = base_model.output\r\n",
        "    model = Flatten()(x)\r\n",
        "    #model = Dense(128, activation = \"relu\")(model)\r\n",
        "    model = Dropout(rate=0.25)(model)\r\n",
        "    predictions = Dense(5, activation = \"softmax\")(model)\r\n",
        "    model = Model(inputs = base_model.input, outputs = predictions)\r\n",
        "    return model\r\n",
        "IncepNet = build_IncepNet()\r\n",
        "IncepNet.compile(optimizer=opt, loss='sparse_categorical_crossentropy', metrics=['accuracy'])\r\n",
        "\r\n",
        "train_hist = IncepNet.fit(\r\n",
        "    x=dataset_train,\r\n",
        "    epochs=6,\r\n",
        "    validation_data=dataset_valid,\r\n",
        "    callbacks = [early_stop]\r\n",
        ")"
      ],
      "id": "dNFHv2_Rfnpz",
      "execution_count": null,
      "outputs": [
        {
          "output_type": "stream",
          "text": [
            "Downloading data from https://storage.googleapis.com/tensorflow/keras-applications/inception_resnet_v2/inception_resnet_v2_weights_tf_dim_ordering_tf_kernels_notop.h5\n",
            "219062272/219055592 [==============================] - 2s 0us/step\n",
            "Epoch 1/6\n",
            "460/460 [==============================] - 655s 1s/step - loss: 1.0157 - accuracy: 0.6386 - val_loss: 1.3324 - val_accuracy: 0.7513\n",
            "Epoch 2/6\n",
            "460/460 [==============================] - 614s 1s/step - loss: 0.6867 - accuracy: 0.7512 - val_loss: 1.5809 - val_accuracy: 0.7664\n",
            "Epoch 3/6\n",
            "460/460 [==============================] - 614s 1s/step - loss: 0.5752 - accuracy: 0.7935 - val_loss: 1.0000 - val_accuracy: 0.8015\n",
            "Epoch 4/6\n",
            "460/460 [==============================] - 617s 1s/step - loss: 0.4993 - accuracy: 0.8236 - val_loss: 1.2758 - val_accuracy: 0.8121\n",
            "Epoch 5/6\n",
            "460/460 [==============================] - 616s 1s/step - loss: 0.4390 - accuracy: 0.8465 - val_loss: 0.9979 - val_accuracy: 0.8218\n",
            "Epoch 6/6\n",
            "460/460 [==============================] - 614s 1s/step - loss: 0.4041 - accuracy: 0.8559 - val_loss: 1.5922 - val_accuracy: 0.8106\n"
          ],
          "name": "stdout"
        }
      ]
    },
    {
      "cell_type": "code",
      "metadata": {
        "colab": {
          "base_uri": "https://localhost:8080/"
        },
        "id": "3UZDsG6UGNX3",
        "outputId": "5af3c928-9aeb-4ce2-b36a-9dc2aab6e32e"
      },
      "source": [
        " initial_learning_rate = 0.00004\r\n",
        "lr_schedule = tf.keras.optimizers.schedules.ExponentialDecay(\r\n",
        "    initial_learning_rate,\r\n",
        "    decay_steps=1000,\r\n",
        "    decay_rate=0.9)\r\n",
        "opt = tf.keras.optimizers.RMSprop(learning_rate=lr_schedule)\r\n",
        "\r\n",
        "early_stop = EarlyStopping(monitor='val_accuracy', mode='max', \r\n",
        "                       patience=4, restore_best_weights=True, verbose=1)\r\n",
        "  \r\n",
        "def build_EffNet():\r\n",
        "    base_model = tf.keras.applications.EfficientNetB1(\r\n",
        "        include_top=False,\r\n",
        "        weights=\"imagenet\",\r\n",
        "        input_tensor=None,\r\n",
        "        input_shape=(HEIGHT, WIDTH, 3),\r\n",
        "        pooling=None,\r\n",
        "      )\r\n",
        "    #base_model.trainable = False\r\n",
        "    x = base_model.output\r\n",
        "    model = Flatten()(x)\r\n",
        "    model = Dropout(rate=0.25)(model)\r\n",
        "    predictions = Dense(5, activation = \"softmax\")(model)\r\n",
        "    model = Model(inputs = base_model.input, outputs = predictions)\r\n",
        "    return model\r\n",
        "EffNet = build_EffNet()\r\n",
        "EffNet.compile(optimizer=opt, loss='sparse_categorical_crossentropy', metrics=['accuracy'])\r\n",
        "\r\n",
        "train_hist = EffNet.fit(\r\n",
        "    x=dataset_train,\r\n",
        "    epochs=10,\r\n",
        "    validation_data=dataset_valid,\r\n",
        "    callbacks = [early_stop]\r\n",
        ")"
      ],
      "id": "3UZDsG6UGNX3",
      "execution_count": null,
      "outputs": [
        {
          "output_type": "stream",
          "text": [
            "Downloading data from https://storage.googleapis.com/keras-applications/efficientnetb1_notop.h5\n",
            "27025408/27018416 [==============================] - 0s 0us/step\n",
            "Epoch 1/10\n",
            "460/460 [==============================] - 502s 982ms/step - loss: 1.1646 - accuracy: 0.6143 - val_loss: 0.7691 - val_accuracy: 0.7341\n",
            "Epoch 2/10\n",
            "460/460 [==============================] - 439s 953ms/step - loss: 0.7820 - accuracy: 0.7373 - val_loss: 0.7293 - val_accuracy: 0.7537\n",
            "Epoch 3/10\n",
            "460/460 [==============================] - 440s 956ms/step - loss: 0.6978 - accuracy: 0.7632 - val_loss: 0.6389 - val_accuracy: 0.7837\n",
            "Epoch 4/10\n",
            "460/460 [==============================] - 442s 961ms/step - loss: 0.6071 - accuracy: 0.7883 - val_loss: 0.6299 - val_accuracy: 0.7899\n",
            "Epoch 5/10\n",
            "460/460 [==============================] - 440s 955ms/step - loss: 0.5708 - accuracy: 0.8032 - val_loss: 0.5960 - val_accuracy: 0.8037\n",
            "Epoch 6/10\n",
            "460/460 [==============================] - 438s 951ms/step - loss: 0.5339 - accuracy: 0.8196 - val_loss: 0.6064 - val_accuracy: 0.8016\n",
            "Epoch 7/10\n",
            "460/460 [==============================] - 440s 956ms/step - loss: 0.5183 - accuracy: 0.8247 - val_loss: 0.5912 - val_accuracy: 0.8105\n",
            "Epoch 8/10\n",
            "460/460 [==============================] - 437s 950ms/step - loss: 0.4964 - accuracy: 0.8318 - val_loss: 0.5804 - val_accuracy: 0.8157\n",
            "Epoch 9/10\n",
            "460/460 [==============================] - 440s 955ms/step - loss: 0.4621 - accuracy: 0.8433 - val_loss: 0.5960 - val_accuracy: 0.8124\n",
            "Epoch 10/10\n",
            "460/460 [==============================] - 438s 952ms/step - loss: 0.4514 - accuracy: 0.8458 - val_loss: 0.6041 - val_accuracy: 0.8142\n"
          ],
          "name": "stdout"
        }
      ]
    },
    {
      "cell_type": "code",
      "metadata": {
        "id": "SJcov_A2TAMB"
      },
      "source": [
        ""
      ],
      "id": "SJcov_A2TAMB",
      "execution_count": null,
      "outputs": []
    },
    {
      "cell_type": "code",
      "metadata": {
        "id": "Tn0hlL0ucpH1"
      },
      "source": [
        ""
      ],
      "id": "Tn0hlL0ucpH1",
      "execution_count": null,
      "outputs": []
    }
  ]
}