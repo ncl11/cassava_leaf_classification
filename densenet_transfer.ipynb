{
  "nbformat": 4,
  "nbformat_minor": 0,
  "metadata": {
    "colab": {
      "name": "densenet_transfer.ipynb",
      "provenance": [],
      "collapsed_sections": [],
      "machine_shape": "hm"
    },
    "kernelspec": {
      "name": "python3",
      "display_name": "Python 3"
    },
    "accelerator": "GPU"
  },
  "cells": [
    {
      "cell_type": "code",
      "metadata": {
        "id": "lAhySObKVLb1"
      },
      "source": [
        "import keras\n",
        "from keras.layers import Dense, Dropout, Input, MaxPooling2D, Conv2D, Flatten, MaxPool2D, AveragePooling2D, GlobalAveragePooling2D, BatchNormalization\n",
        "from keras.models import Sequential, Model\n",
        "from keras.losses import categorical_crossentropy\n",
        "from keras.optimizers import Adam, SGD\n",
        "from keras.callbacks import EarlyStopping, ReduceLROnPlateau\n",
        "import numpy as np\n",
        "import pandas as pd\n",
        "import matplotlib.pyplot as plt\n",
        "import glob\n",
        "import os\n",
        "from keras.applications.densenet import DenseNet121\n"
      ],
      "execution_count": null,
      "outputs": []
    },
    {
      "cell_type": "code",
      "metadata": {
        "id": "VmoDNT4FVZQz"
      },
      "source": [
        "from google.colab import drive\n",
        "drive.mount('/content/drive')\n",
        "path = \"/content/drive/MyDrive/cassava/train_tfrecords\""
      ],
      "execution_count": null,
      "outputs": []
    },
    {
      "cell_type": "code",
      "metadata": {
        "id": "24cd6ISBVd-V",
        "colab": {
          "base_uri": "https://localhost:8080/"
        },
        "outputId": "1bf3d2a2-db13-451d-f887-e5c45bc8d04c"
      },
      "source": [
        "%cd drive/MyDrive/cassava/train_tfrecords/"
      ],
      "execution_count": null,
      "outputs": [
        {
          "output_type": "stream",
          "text": [
            "/content/drive/MyDrive/cassava/train_tfrecords\n"
          ],
          "name": "stdout"
        }
      ]
    },
    {
      "cell_type": "code",
      "metadata": {
        "id": "pHk1lDzqfDZI"
      },
      "source": [
        "from data_loader import initialize_dataset"
      ],
      "execution_count": null,
      "outputs": []
    },
    {
      "cell_type": "code",
      "metadata": {
        "id": "4W604M5YfeE0"
      },
      "source": [
        "# Get a list of the training record files\n",
        "# tfrecord_files = glob.glob(os.path.join(\"data\", \"train_tfrecords\", \"*.tfrec\"))\n",
        "tfrecord_files = glob.glob(os.path.join(path, \"*.tfrec\"))\n",
        "\n",
        "\n",
        "# Define the number of files for training, 70% of files\n",
        "n_file_train = int(0.85 * len(tfrecord_files))\n",
        "\n",
        "# Split the record files into 70% training and 30% validation\n",
        "tfrecord_files_train = tfrecord_files[:n_file_train]\n",
        "tfrecord_files_valid = tfrecord_files[n_file_train:]"
      ],
      "execution_count": null,
      "outputs": []
    },
    {
      "cell_type": "code",
      "metadata": {
        "id": "tZ89iuQjfviq"
      },
      "source": [
        "BATCH_SIZE = 32\n",
        "\n",
        "IMG_SIZE = (256, 256)\n",
        "\n",
        "# Initialize the training data loader, with random flipping and rotations\n",
        "dataset_train = initialize_dataset(tfrecord_files_train, batch_size=BATCH_SIZE, img_size=IMG_SIZE, flip=True, rot=(-1, 1))\n",
        "\n",
        "# Initialize the validation loader, with no flipping or rotations\n",
        "dataset_valid = initialize_dataset(tfrecord_files_valid, img_size=IMG_SIZE)"
      ],
      "execution_count": null,
      "outputs": []
    },
    {
      "cell_type": "code",
      "metadata": {
        "id": "anG2DdQWGu33"
      },
      "source": [
        "def save_model(model):\n",
        "  import os\n",
        "  model_name = 'checkpoint1.h5'\n",
        "  save_dir = os.path.join(os.getcwd(), 'saved_models')\n",
        "  \n",
        "  # Save model and weights\n",
        "  if not os.path.isdir(save_dir):\n",
        "      os.makedirs(save_dir)\n",
        "  model_path = os.path.join(save_dir, model_name)\n",
        "  model.save(model_path, overwrite=True)\n",
        "  print('Saved trained model at %s ' % model_path)"
      ],
      "execution_count": null,
      "outputs": []
    },
    {
      "cell_type": "code",
      "metadata": {
        "id": "XDdpUFg0f38j"
      },
      "source": [
        "# Our most basic DenseNet model, just a global average pooling and a fully connected output layer following DenseNet121. No layers frozen.\n",
        "# Performs suprisingly well, with val loss of 0.47 and val accuracy of 0.84\n",
        "\n",
        "initial_lr = 5e-5\n",
        "lr_schedule = keras.optimizers.schedules.ExponentialDecay(\n",
        "    initial_lr,\n",
        "    decay_steps=10000,\n",
        "    decay_rate=0.9)\n",
        "\n",
        "opt = keras.optimizers.Adam(learning_rate=lr_schedule)\n",
        "\n",
        "early_stop = EarlyStopping(monitor='val_loss', mode='min', \n",
        "                       patience=5, restore_best_weights=True, verbose=1)\n",
        "\n",
        "def build_model():\n",
        "  model_dn = DenseNet121(\n",
        "      include_top= False,\n",
        "      weights=\"imagenet\",\n",
        "      input_shape= (*IMG_SIZE, 3),\n",
        "  )\n",
        "\n",
        "  x = GlobalAveragePooling2D()(model_dn.output)\n",
        "  x = BatchNormalization()(x)\n",
        "  x = Dropout(0.2)(x)\n",
        "  output = Dense(5, activation='softmax')(x)\n",
        "\n",
        "  model = Model(inputs = model_dn.input, outputs = output)\n",
        "\n",
        "  return model"
      ],
      "execution_count": null,
      "outputs": []
    },
    {
      "cell_type": "code",
      "metadata": {
        "id": "WR3mFTf3f8j_"
      },
      "source": [
        "model = build_model()\n",
        "\n",
        "model.compile(\n",
        "    loss=\"sparse_categorical_crossentropy\",\n",
        "    optimizer = opt,\n",
        "    metrics=[\"accuracy\"]\n",
        ")\n",
        "\n",
        "# model.summary()"
      ],
      "execution_count": null,
      "outputs": []
    },
    {
      "cell_type": "code",
      "metadata": {
        "colab": {
          "base_uri": "https://localhost:8080/"
        },
        "id": "vcfIJ_j2hyX3",
        "outputId": "752edc1c-1b12-42e9-847d-4940969fda2a"
      },
      "source": [
        "train_hist = model.fit(\n",
        "    x = dataset_train,\n",
        "    epochs = 100,\n",
        "    validation_data = dataset_valid,\n",
        "    callbacks = [early_stop]\n",
        ")"
      ],
      "execution_count": null,
      "outputs": [
        {
          "output_type": "stream",
          "text": [
            "Epoch 1/100\n",
            "544/544 [==============================] - 169s 292ms/step - loss: 1.1666 - accuracy: 0.5905 - val_loss: 0.6562 - val_accuracy: 0.7887\n",
            "Epoch 2/100\n",
            "544/544 [==============================] - 157s 288ms/step - loss: 0.6046 - accuracy: 0.8037 - val_loss: 0.5860 - val_accuracy: 0.8154\n",
            "Epoch 3/100\n",
            "544/544 [==============================] - 157s 289ms/step - loss: 0.5130 - accuracy: 0.8316 - val_loss: 0.5509 - val_accuracy: 0.8226\n",
            "Epoch 4/100\n",
            "544/544 [==============================] - 157s 288ms/step - loss: 0.4424 - accuracy: 0.8517 - val_loss: 0.4889 - val_accuracy: 0.8416\n",
            "Epoch 5/100\n",
            "544/544 [==============================] - 157s 288ms/step - loss: 0.4145 - accuracy: 0.8609 - val_loss: 0.4907 - val_accuracy: 0.8456\n",
            "Epoch 6/100\n",
            "544/544 [==============================] - 157s 289ms/step - loss: 0.3736 - accuracy: 0.8725 - val_loss: 0.5081 - val_accuracy: 0.8409\n",
            "Epoch 7/100\n",
            "544/544 [==============================] - 157s 288ms/step - loss: 0.3450 - accuracy: 0.8805 - val_loss: 0.5068 - val_accuracy: 0.8431\n",
            "Epoch 8/100\n",
            "544/544 [==============================] - 157s 289ms/step - loss: 0.3277 - accuracy: 0.8823 - val_loss: 0.4748 - val_accuracy: 0.8474\n",
            "Epoch 9/100\n",
            "544/544 [==============================] - 157s 288ms/step - loss: 0.2924 - accuracy: 0.9016 - val_loss: 0.5164 - val_accuracy: 0.8354\n",
            "Epoch 10/100\n",
            "544/544 [==============================] - 157s 289ms/step - loss: 0.2677 - accuracy: 0.9069 - val_loss: 0.5429 - val_accuracy: 0.8436\n",
            "Epoch 11/100\n",
            "544/544 [==============================] - 157s 288ms/step - loss: 0.2421 - accuracy: 0.9144 - val_loss: 0.5494 - val_accuracy: 0.8434\n",
            "Epoch 12/100\n",
            "544/544 [==============================] - 157s 287ms/step - loss: 0.2218 - accuracy: 0.9216 - val_loss: 0.5412 - val_accuracy: 0.8366\n",
            "Epoch 13/100\n",
            "544/544 [==============================] - 158s 289ms/step - loss: 0.1979 - accuracy: 0.9312 - val_loss: 0.6068 - val_accuracy: 0.8341\n",
            "Restoring model weights from the end of the best epoch.\n",
            "Epoch 00013: early stopping\n"
          ],
          "name": "stdout"
        }
      ]
    },
    {
      "cell_type": "code",
      "metadata": {
        "id": "-1T8R8WqwxyZ"
      },
      "source": [
        ""
      ],
      "execution_count": null,
      "outputs": []
    },
    {
      "cell_type": "code",
      "metadata": {
        "id": "YTYR-KRJwz7d"
      },
      "source": [
        "# Adding more complexity to our model above, with two fully-connected hidden layers before the output\n",
        "# More dropout with slightly higher dropout rate to mitigate overfitting\n",
        "# Val loss as low as 0.43, and val accuracy pushes up to 0.85\n",
        "\n",
        "initial_lr = 5e-5\n",
        "lr_schedule = keras.optimizers.schedules.ExponentialDecay(\n",
        "    initial_lr,\n",
        "    decay_steps=10000,\n",
        "    decay_rate=0.9)\n",
        "\n",
        "# reduce_lr = ReduceLROnPlateau(\n",
        "#     monitor=\"val_loss\",\n",
        "#     factor=0.5,\n",
        "#     patience=5,\n",
        "#     verbose=1,\n",
        "#     min_lr=1e-6\n",
        "# )\n",
        "\n",
        "opt = keras.optimizers.Adam(learning_rate=lr_schedule)\n",
        "\n",
        "early_stop = EarlyStopping(monitor='val_loss', mode='min', \n",
        "                       patience=5, restore_best_weights=True, verbose=1)\n",
        "\n",
        "def build_model2():\n",
        "  model_dn = DenseNet121(\n",
        "      include_top= False,\n",
        "      weights=\"imagenet\",\n",
        "      input_shape= (*IMG_SIZE, 3),\n",
        "  )\n",
        "\n",
        "  x = GlobalAveragePooling2D()(model_dn.output)\n",
        "  x = BatchNormalization()(x)\n",
        "  x = Dropout(0.4)(x)\n",
        "  x = Dense(1024,activation='relu', kernel_initializer=\"he_normal\")(x) \n",
        "  x = Dropout(0.4)(x)\n",
        "  x = Dense(512,activation='relu', kernel_initializer=\"he_normal\")(x) \n",
        "  x = BatchNormalization()(x)\n",
        "  x = Dropout(0.4)(x)\n",
        "  output = Dense(5, activation='softmax')(x)\n",
        "\n",
        "  model = Model(inputs = model_dn.input, outputs = output)\n",
        "\n",
        "  return model"
      ],
      "execution_count": null,
      "outputs": []
    },
    {
      "cell_type": "code",
      "metadata": {
        "id": "QWaGxn1k7QPh"
      },
      "source": [
        "model2 = build_model2()\n",
        "\n",
        "model2.compile(\n",
        "    loss=\"sparse_categorical_crossentropy\",\n",
        "    optimizer = opt,\n",
        "    metrics=[\"accuracy\"]\n",
        ")\n",
        "\n",
        "# model2.summary()"
      ],
      "execution_count": null,
      "outputs": []
    },
    {
      "cell_type": "code",
      "metadata": {
        "colab": {
          "base_uri": "https://localhost:8080/"
        },
        "id": "M4yt1wDY7lVT",
        "outputId": "40b02564-f02c-4ab4-b760-87a82c2da1a4"
      },
      "source": [
        "train_hist2 = model2.fit(\n",
        "    x = dataset_train,\n",
        "    epochs = 100,\n",
        "    validation_data = dataset_valid,\n",
        "    callbacks = [early_stop]\n",
        ")"
      ],
      "execution_count": null,
      "outputs": [
        {
          "output_type": "stream",
          "text": [
            "Epoch 1/100\n",
            "544/544 [==============================] - 171s 292ms/step - loss: 1.9385 - accuracy: 0.3818 - val_loss: 1.0109 - val_accuracy: 0.6752\n",
            "Epoch 2/100\n",
            "544/544 [==============================] - 162s 297ms/step - loss: 1.0681 - accuracy: 0.6785 - val_loss: 0.6549 - val_accuracy: 0.7887\n",
            "Epoch 3/100\n",
            "544/544 [==============================] - 160s 294ms/step - loss: 0.8582 - accuracy: 0.7452 - val_loss: 0.6301 - val_accuracy: 0.7982\n",
            "Epoch 4/100\n",
            "544/544 [==============================] - 159s 291ms/step - loss: 0.7345 - accuracy: 0.7810 - val_loss: 0.5529 - val_accuracy: 0.8234\n",
            "Epoch 5/100\n",
            "544/544 [==============================] - 159s 291ms/step - loss: 0.6679 - accuracy: 0.7967 - val_loss: 0.5937 - val_accuracy: 0.8179\n",
            "Epoch 6/100\n",
            "544/544 [==============================] - 163s 299ms/step - loss: 0.6337 - accuracy: 0.8032 - val_loss: 0.5160 - val_accuracy: 0.8409\n",
            "Epoch 7/100\n",
            "544/544 [==============================] - 164s 301ms/step - loss: 0.5933 - accuracy: 0.8146 - val_loss: 0.4892 - val_accuracy: 0.8369\n",
            "Epoch 8/100\n",
            "544/544 [==============================] - 164s 300ms/step - loss: 0.5443 - accuracy: 0.8221 - val_loss: 0.4881 - val_accuracy: 0.8446\n",
            "Epoch 9/100\n",
            "544/544 [==============================] - 164s 302ms/step - loss: 0.5242 - accuracy: 0.8333 - val_loss: 0.4376 - val_accuracy: 0.8536\n",
            "Epoch 10/100\n",
            "544/544 [==============================] - 165s 302ms/step - loss: 0.4969 - accuracy: 0.8362 - val_loss: 0.4625 - val_accuracy: 0.8526\n",
            "Epoch 11/100\n",
            "544/544 [==============================] - 165s 302ms/step - loss: 0.4713 - accuracy: 0.8437 - val_loss: 0.4878 - val_accuracy: 0.8471\n",
            "Epoch 12/100\n",
            "544/544 [==============================] - 165s 302ms/step - loss: 0.4486 - accuracy: 0.8501 - val_loss: 0.5110 - val_accuracy: 0.8356\n",
            "Epoch 13/100\n",
            "544/544 [==============================] - 165s 302ms/step - loss: 0.4303 - accuracy: 0.8546 - val_loss: 0.4525 - val_accuracy: 0.8581\n",
            "Epoch 14/100\n",
            "544/544 [==============================] - 164s 301ms/step - loss: 0.4161 - accuracy: 0.8644 - val_loss: 0.4496 - val_accuracy: 0.8584\n",
            "Restoring model weights from the end of the best epoch.\n",
            "Epoch 00014: early stopping\n"
          ],
          "name": "stdout"
        }
      ]
    },
    {
      "cell_type": "code",
      "metadata": {
        "id": "-SoAhepOfpNx"
      },
      "source": [
        "# see how transfer learning does if we freeze base (DenseNet) layers\n",
        "\n",
        "model_freeze_base = build_model2()\n",
        "\n",
        "# Freeze all DenseNet layers\n",
        "for layer in model_freeze_base.layers[:-9]:\n",
        "  layer.trainable = False\n",
        "\n",
        "initial_lr_transfer = 0.01\n",
        "lr_schedule_transfer = keras.optimizers.schedules.ExponentialDecay(\n",
        "    initial_lr_transfer,\n",
        "    decay_steps=10000,\n",
        "    decay_rate=0.9)\n",
        "\n",
        "opt_transfer = keras.optimizers.Adam(learning_rate=lr_schedule_transfer)\n",
        "\n",
        "\n",
        "model_freeze_base.compile(\n",
        "    loss=\"sparse_categorical_crossentropy\",\n",
        "    optimizer = opt_transfer,\n",
        "    metrics=[\"accuracy\"]\n",
        ")\n",
        "\n",
        "# model_freeze_base.summary()"
      ],
      "execution_count": null,
      "outputs": []
    },
    {
      "cell_type": "code",
      "metadata": {
        "colab": {
          "base_uri": "https://localhost:8080/"
        },
        "id": "P6sOaKmJOXV8",
        "outputId": "3dfdeee1-97b1-4ab0-b6a2-edb51295e7e7"
      },
      "source": [
        "# model clearly underfits\n",
        "\n",
        "train_freeze_base = model_freeze_base.fit(\n",
        "    x = dataset_train,\n",
        "    epochs = 100,\n",
        "    validation_data = dataset_valid,\n",
        "    callbacks = [early_stop]\n",
        ")"
      ],
      "execution_count": null,
      "outputs": [
        {
          "output_type": "stream",
          "text": [
            "Epoch 1/100\n",
            "544/544 [==============================] - 154s 272ms/step - loss: 1.4834 - accuracy: 0.5698 - val_loss: 1.0994 - val_accuracy: 0.6253\n",
            "Epoch 2/100\n",
            "544/544 [==============================] - 147s 269ms/step - loss: 1.0186 - accuracy: 0.6336 - val_loss: 1.3190 - val_accuracy: 0.6585\n",
            "Epoch 3/100\n",
            "544/544 [==============================] - 147s 269ms/step - loss: 0.9634 - accuracy: 0.6505 - val_loss: 0.9312 - val_accuracy: 0.6643\n",
            "Epoch 4/100\n",
            "544/544 [==============================] - 147s 269ms/step - loss: 0.9376 - accuracy: 0.6571 - val_loss: 0.9380 - val_accuracy: 0.6505\n",
            "Epoch 5/100\n",
            "544/544 [==============================] - 147s 270ms/step - loss: 0.9364 - accuracy: 0.6569 - val_loss: 0.9114 - val_accuracy: 0.6653\n",
            "Epoch 6/100\n",
            "544/544 [==============================] - 147s 270ms/step - loss: 0.9268 - accuracy: 0.6562 - val_loss: 0.8895 - val_accuracy: 0.6730\n",
            "Epoch 7/100\n",
            "544/544 [==============================] - 147s 271ms/step - loss: 0.9220 - accuracy: 0.6584 - val_loss: 0.8942 - val_accuracy: 0.6610\n",
            "Epoch 8/100\n",
            "544/544 [==============================] - 147s 270ms/step - loss: 0.9176 - accuracy: 0.6584 - val_loss: 0.8940 - val_accuracy: 0.6655\n",
            "Epoch 9/100\n",
            "544/544 [==============================] - 147s 270ms/step - loss: 0.9180 - accuracy: 0.6593 - val_loss: 0.9281 - val_accuracy: 0.6560\n",
            "Epoch 10/100\n",
            "544/544 [==============================] - 147s 270ms/step - loss: 0.9178 - accuracy: 0.6641 - val_loss: 0.9196 - val_accuracy: 0.6667\n",
            "Epoch 11/100\n",
            "544/544 [==============================] - 147s 271ms/step - loss: 0.9163 - accuracy: 0.6612 - val_loss: 0.8936 - val_accuracy: 0.6770\n",
            "Restoring model weights from the end of the best epoch.\n",
            "Epoch 00011: early stopping\n"
          ],
          "name": "stdout"
        }
      ]
    },
    {
      "cell_type": "code",
      "metadata": {
        "id": "WwOa_BpegAmy"
      },
      "source": [
        "# try training model with partial freezing of DenseNet layers\n",
        "\n",
        "model_freeze_partial = build_model2()\n",
        "\n",
        "for layer in model_freeze_partial.layers[:12]:\n",
        "  layer.trainable = False\n",
        "\n",
        "model_freeze_partial.compile(\n",
        "    loss=\"sparse_categorical_crossentropy\",\n",
        "    optimizer = opt,\n",
        "    metrics=[\"accuracy\"]\n",
        ")"
      ],
      "execution_count": null,
      "outputs": []
    },
    {
      "cell_type": "code",
      "metadata": {
        "colab": {
          "base_uri": "https://localhost:8080/"
        },
        "id": "VWww-cfrgyQB",
        "outputId": "5118e1aa-ea77-48d0-d3c5-2b0358321623"
      },
      "source": [
        "# performance not far off from unfrozen model\n",
        "# minimum val loss slightly higher at 0.45, val accuracy around the same \n",
        "\n",
        "train_freeze_partial = model_freeze_partial.fit(\n",
        "    x = dataset_train,\n",
        "    epochs = 100,\n",
        "    validation_data = dataset_valid,\n",
        "    callbacks = [early_stop]\n",
        ")"
      ],
      "execution_count": null,
      "outputs": [
        {
          "output_type": "stream",
          "text": [
            "Epoch 1/100\n",
            "544/544 [==============================] - 204s 353ms/step - loss: 1.9706 - accuracy: 0.3888 - val_loss: 0.7639 - val_accuracy: 0.7482\n",
            "Epoch 2/100\n",
            "544/544 [==============================] - 186s 341ms/step - loss: 1.0917 - accuracy: 0.6730 - val_loss: 0.7034 - val_accuracy: 0.7949\n",
            "Epoch 3/100\n",
            "544/544 [==============================] - 190s 348ms/step - loss: 0.8715 - accuracy: 0.7416 - val_loss: 0.6011 - val_accuracy: 0.8259\n",
            "Epoch 4/100\n",
            "544/544 [==============================] - 184s 337ms/step - loss: 0.7680 - accuracy: 0.7788 - val_loss: 0.6109 - val_accuracy: 0.8189\n",
            "Epoch 5/100\n",
            "544/544 [==============================] - 184s 338ms/step - loss: 0.6925 - accuracy: 0.7880 - val_loss: 0.5431 - val_accuracy: 0.8386\n",
            "Epoch 6/100\n",
            "544/544 [==============================] - 184s 338ms/step - loss: 0.6329 - accuracy: 0.8034 - val_loss: 0.5218 - val_accuracy: 0.8476\n",
            "Epoch 7/100\n",
            "544/544 [==============================] - 184s 337ms/step - loss: 0.6067 - accuracy: 0.8125 - val_loss: 0.5522 - val_accuracy: 0.8321\n",
            "Epoch 8/100\n",
            "544/544 [==============================] - 189s 347ms/step - loss: 0.5579 - accuracy: 0.8186 - val_loss: 0.5786 - val_accuracy: 0.8349\n",
            "Epoch 9/100\n",
            "544/544 [==============================] - 183s 337ms/step - loss: 0.5434 - accuracy: 0.8313 - val_loss: 0.5066 - val_accuracy: 0.8441\n",
            "Epoch 10/100\n",
            "544/544 [==============================] - 186s 341ms/step - loss: 0.5170 - accuracy: 0.8316 - val_loss: 0.4615 - val_accuracy: 0.8584\n",
            "Epoch 11/100\n",
            "544/544 [==============================] - 184s 337ms/step - loss: 0.4848 - accuracy: 0.8389 - val_loss: 0.5128 - val_accuracy: 0.8474\n",
            "Epoch 12/100\n",
            "544/544 [==============================] - 189s 347ms/step - loss: 0.4759 - accuracy: 0.8476 - val_loss: 0.4580 - val_accuracy: 0.8546\n",
            "Epoch 13/100\n",
            "544/544 [==============================] - 184s 337ms/step - loss: 0.4551 - accuracy: 0.8509 - val_loss: 0.4618 - val_accuracy: 0.8561\n",
            "Epoch 14/100\n",
            "544/544 [==============================] - 184s 337ms/step - loss: 0.4331 - accuracy: 0.8537 - val_loss: 0.4595 - val_accuracy: 0.8584\n",
            "Epoch 15/100\n",
            "544/544 [==============================] - 189s 347ms/step - loss: 0.4086 - accuracy: 0.8633 - val_loss: 0.4723 - val_accuracy: 0.8581\n",
            "Epoch 16/100\n",
            "544/544 [==============================] - 188s 346ms/step - loss: 0.3996 - accuracy: 0.8672 - val_loss: 0.4811 - val_accuracy: 0.8581\n",
            "Epoch 17/100\n",
            "544/544 [==============================] - 183s 336ms/step - loss: 0.3744 - accuracy: 0.8725 - val_loss: 0.4878 - val_accuracy: 0.8614\n",
            "Restoring model weights from the end of the best epoch.\n",
            "Epoch 00017: early stopping\n"
          ],
          "name": "stdout"
        }
      ]
    },
    {
      "cell_type": "code",
      "metadata": {
        "colab": {
          "base_uri": "https://localhost:8080/"
        },
        "id": "HmwJ4E0Lwmeu",
        "outputId": "178e4d59-dd53-4db3-9898-fc365f4cb6b3"
      },
      "source": [
        "save_model(model_freeze_partial)"
      ],
      "execution_count": null,
      "outputs": [
        {
          "output_type": "stream",
          "text": [
            "Saved trained model at /content/drive/My Drive/cassava/train_tfrecords/saved_models/checkpoint1.h5 \n"
          ],
          "name": "stdout"
        }
      ]
    },
    {
      "cell_type": "code",
      "metadata": {
        "id": "M8L522wixIRa"
      },
      "source": [
        "checkpoint = keras.models.load_model(\"saved_models/checkpoint1.h5\")"
      ],
      "execution_count": null,
      "outputs": []
    },
    {
      "cell_type": "code",
      "metadata": {
        "id": "I1U9IFSShAUS"
      },
      "source": [
        "# Unfreeze previously frozen layers\n",
        "for layer in checkpoint.layers:\n",
        "  layer.trainable = True\n",
        "\n",
        "# But freeze batch norm layers\n",
        "for layer in checkpoint.layers:\n",
        "  if \"bn\" in layer.name or \"batch\" in layer.name:\n",
        "    layer.trainable = False"
      ],
      "execution_count": null,
      "outputs": []
    },
    {
      "cell_type": "code",
      "metadata": {
        "id": "jJut1y4YOTnv"
      },
      "source": [
        "# use smaller learning rate\n",
        "\n",
        "initial_lr2 = 1e-5\n",
        "lr_schedule2 = keras.optimizers.schedules.ExponentialDecay(\n",
        "    initial_lr2,\n",
        "    decay_steps=10000,\n",
        "    decay_rate=0.9)\n",
        "\n",
        "opt_fine = keras.optimizers.Adam(learning_rate=lr_schedule2)\n",
        "\n",
        "checkpoint.compile(\n",
        "    loss=\"sparse_categorical_crossentropy\",\n",
        "    optimizer = opt_fine,\n",
        "    metrics=[\"accuracy\"]\n",
        ")"
      ],
      "execution_count": null,
      "outputs": []
    },
    {
      "cell_type": "code",
      "metadata": {
        "colab": {
          "base_uri": "https://localhost:8080/"
        },
        "id": "qIAq5vbVOUDX",
        "outputId": "d7ebf5e4-3ca9-433d-f65d-fff49366cbac"
      },
      "source": [
        "# Val accuracy pushed up to 0.86, but val loss does not outperform original unfrozen model\n",
        "# Given the imbalanced data set, this 1 percent increase in val accuracy with no decrease at all in val loss might not be significant\n",
        "\n",
        "train_freeze_unfreeze2 = checkpoint.fit(\n",
        "    x = dataset_train,\n",
        "    epochs = 100,\n",
        "    validation_data = dataset_valid,\n",
        "    callbacks = [early_stop]\n",
        ")"
      ],
      "execution_count": null,
      "outputs": [
        {
          "output_type": "stream",
          "text": [
            "Epoch 1/100\n",
            "544/544 [==============================] - 216s 385ms/step - loss: 0.4190 - accuracy: 0.8624 - val_loss: 0.4418 - val_accuracy: 0.8549\n",
            "Epoch 2/100\n",
            "544/544 [==============================] - 209s 383ms/step - loss: 0.3984 - accuracy: 0.8648 - val_loss: 0.4439 - val_accuracy: 0.8601\n",
            "Epoch 3/100\n",
            "544/544 [==============================] - 208s 382ms/step - loss: 0.3922 - accuracy: 0.8657 - val_loss: 0.4774 - val_accuracy: 0.8481\n",
            "Epoch 4/100\n",
            "544/544 [==============================] - 208s 382ms/step - loss: 0.3832 - accuracy: 0.8735 - val_loss: 0.4388 - val_accuracy: 0.8664\n",
            "Epoch 5/100\n",
            "544/544 [==============================] - 208s 382ms/step - loss: 0.3839 - accuracy: 0.8688 - val_loss: 0.4365 - val_accuracy: 0.8621\n",
            "Epoch 6/100\n",
            "544/544 [==============================] - 207s 380ms/step - loss: 0.3736 - accuracy: 0.8728 - val_loss: 0.4339 - val_accuracy: 0.8651\n",
            "Epoch 7/100\n",
            "544/544 [==============================] - 207s 380ms/step - loss: 0.3651 - accuracy: 0.8752 - val_loss: 0.4462 - val_accuracy: 0.8561\n",
            "Epoch 8/100\n",
            "544/544 [==============================] - 207s 380ms/step - loss: 0.3599 - accuracy: 0.8773 - val_loss: 0.4414 - val_accuracy: 0.8626\n",
            "Epoch 9/100\n",
            "544/544 [==============================] - 207s 381ms/step - loss: 0.3626 - accuracy: 0.8782 - val_loss: 0.4377 - val_accuracy: 0.8621\n",
            "Epoch 10/100\n",
            "544/544 [==============================] - 208s 381ms/step - loss: 0.3470 - accuracy: 0.8788 - val_loss: 0.4363 - val_accuracy: 0.8676\n",
            "Epoch 11/100\n",
            "544/544 [==============================] - 208s 381ms/step - loss: 0.3579 - accuracy: 0.8789 - val_loss: 0.4469 - val_accuracy: 0.8609\n",
            "Restoring model weights from the end of the best epoch.\n",
            "Epoch 00011: early stopping\n"
          ],
          "name": "stdout"
        }
      ]
    },
    {
      "cell_type": "code",
      "metadata": {
        "id": "iRoXsOqdFQJW"
      },
      "source": [
        "# Try training model with some partial freezing, trial 2\n",
        "# Further trials not shown in notebook to avoid clutter, but as we increase the number of frozen blocks in the base DenseNet model,\n",
        "# validation performance starts to noticeably go down \n",
        "\n",
        "\n",
        "model_freeze_partial2 = build_model2()\n",
        "\n",
        "for layer in model_freeze_partial2.layers[:33]:\n",
        "  layer.trainable = False\n",
        "\n",
        "model_freeze_partial2.compile(\n",
        "    loss=\"sparse_categorical_crossentropy\",\n",
        "    optimizer = opt,\n",
        "    metrics=[\"accuracy\"]\n",
        ")"
      ],
      "execution_count": null,
      "outputs": []
    },
    {
      "cell_type": "code",
      "metadata": {
        "colab": {
          "base_uri": "https://localhost:8080/"
        },
        "id": "GxTfeys38Ist",
        "outputId": "b89fe294-3220-47af-db04-bfe95d3b9936"
      },
      "source": [
        "train_freeze_partial2 = model_freeze_partial2.fit(\n",
        "    x = dataset_train,\n",
        "    epochs = 100,\n",
        "    validation_data = dataset_valid,\n",
        "    callbacks = [early_stop]\n",
        ")"
      ],
      "execution_count": null,
      "outputs": [
        {
          "output_type": "stream",
          "text": [
            "Epoch 1/100\n",
            "544/544 [==============================] - 192s 336ms/step - loss: 1.6776 - accuracy: 0.4844 - val_loss: 0.7807 - val_accuracy: 0.7664\n",
            "Epoch 2/100\n",
            "544/544 [==============================] - 181s 332ms/step - loss: 0.9409 - accuracy: 0.7129 - val_loss: 0.6230 - val_accuracy: 0.8074\n",
            "Epoch 3/100\n",
            "544/544 [==============================] - 182s 334ms/step - loss: 0.8079 - accuracy: 0.7482 - val_loss: 0.5820 - val_accuracy: 0.8184\n",
            "Epoch 4/100\n",
            "544/544 [==============================] - 181s 332ms/step - loss: 0.7126 - accuracy: 0.7776 - val_loss: 0.5830 - val_accuracy: 0.8224\n",
            "Epoch 5/100\n",
            "544/544 [==============================] - 181s 332ms/step - loss: 0.6817 - accuracy: 0.7848 - val_loss: 0.5501 - val_accuracy: 0.8241\n",
            "Epoch 6/100\n",
            "544/544 [==============================] - 181s 333ms/step - loss: 0.6151 - accuracy: 0.7986 - val_loss: 0.5164 - val_accuracy: 0.8304\n",
            "Epoch 7/100\n",
            "544/544 [==============================] - 181s 332ms/step - loss: 0.5890 - accuracy: 0.8128 - val_loss: 0.5405 - val_accuracy: 0.8291\n",
            "Epoch 8/100\n",
            "544/544 [==============================] - 181s 333ms/step - loss: 0.5491 - accuracy: 0.8234 - val_loss: 0.5010 - val_accuracy: 0.8359\n",
            "Epoch 9/100\n",
            "544/544 [==============================] - 181s 332ms/step - loss: 0.5495 - accuracy: 0.8208 - val_loss: 0.4816 - val_accuracy: 0.8424\n",
            "Epoch 10/100\n",
            "544/544 [==============================] - 181s 332ms/step - loss: 0.5157 - accuracy: 0.8316 - val_loss: 0.4751 - val_accuracy: 0.8461\n",
            "Epoch 11/100\n",
            "544/544 [==============================] - 181s 332ms/step - loss: 0.4881 - accuracy: 0.8356 - val_loss: 0.4743 - val_accuracy: 0.8459\n",
            "Epoch 12/100\n",
            "544/544 [==============================] - 181s 332ms/step - loss: 0.4727 - accuracy: 0.8426 - val_loss: 0.4768 - val_accuracy: 0.8499\n",
            "Epoch 13/100\n",
            "544/544 [==============================] - 181s 331ms/step - loss: 0.4551 - accuracy: 0.8487 - val_loss: 0.4764 - val_accuracy: 0.8494\n",
            "Epoch 14/100\n",
            "544/544 [==============================] - 181s 332ms/step - loss: 0.4355 - accuracy: 0.8535 - val_loss: 0.4645 - val_accuracy: 0.8539\n",
            "Epoch 15/100\n",
            "544/544 [==============================] - 181s 331ms/step - loss: 0.4212 - accuracy: 0.8585 - val_loss: 0.4951 - val_accuracy: 0.8511\n",
            "Epoch 16/100\n",
            "544/544 [==============================] - 181s 332ms/step - loss: 0.4130 - accuracy: 0.8615 - val_loss: 0.4670 - val_accuracy: 0.8519\n",
            "Epoch 17/100\n",
            "544/544 [==============================] - 181s 332ms/step - loss: 0.3980 - accuracy: 0.8625 - val_loss: 0.5154 - val_accuracy: 0.8471\n",
            "Epoch 18/100\n",
            "544/544 [==============================] - 181s 332ms/step - loss: 0.3999 - accuracy: 0.8703 - val_loss: 0.4792 - val_accuracy: 0.8451\n",
            "Epoch 19/100\n",
            "544/544 [==============================] - 181s 331ms/step - loss: 0.3588 - accuracy: 0.8788 - val_loss: 0.4892 - val_accuracy: 0.8504\n",
            "Restoring model weights from the end of the best epoch.\n",
            "Epoch 00019: early stopping\n"
          ],
          "name": "stdout"
        }
      ]
    },
    {
      "cell_type": "code",
      "metadata": {
        "id": "tbEM8NNZjTIx"
      },
      "source": [
        ""
      ],
      "execution_count": null,
      "outputs": []
    }
  ]
}