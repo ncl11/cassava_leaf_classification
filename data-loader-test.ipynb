{
 "cells": [
  {
   "cell_type": "code",
   "execution_count": 10,
   "id": "smoking-permission",
   "metadata": {},
   "outputs": [],
   "source": [
    "# External package imports\n",
    "import tensorflow as tf\n",
    "import glob\n",
    "import os\n",
    "import numpy as np\n",
    "import matplotlib.pyplot as plt"
   ]
  },
  {
   "cell_type": "code",
   "execution_count": 11,
   "id": "gentle-fraud",
   "metadata": {},
   "outputs": [],
   "source": [
    "# Import the custom data loader\n",
    "from data_loader import initialize_dataset"
   ]
  },
  {
   "cell_type": "code",
   "execution_count": 12,
   "id": "foreign-secret",
   "metadata": {},
   "outputs": [],
   "source": [
    "# Get a list of the training record files\n",
    "tfrecord_files = glob.glob(os.path.join(\"data\", \"train_tfrecords\", \"*.tfrec\"))\n",
    "\n",
    "# Define the number of files for training, 70% of files\n",
    "n_file_train = int(0.7 * len(tfrecord_files))\n",
    "\n",
    "# Split the record files into 70% training and 30% validation\n",
    "tfrecord_files_train = tfrecord_files[:n_file_train]\n",
    "tfrecord_files_valid = tfrecord_files[n_file_train:]"
   ]
  },
  {
   "cell_type": "code",
   "execution_count": 13,
   "id": "distributed-antarctica",
   "metadata": {},
   "outputs": [],
   "source": [
    "# Define batch size\n",
    "BATCH_SIZE = 256\n",
    "\n",
    "# Define processed image size\n",
    "IMG_SIZE = (96, 96)"
   ]
  },
  {
   "cell_type": "code",
   "execution_count": 14,
   "id": "computational-judges",
   "metadata": {
    "scrolled": false
   },
   "outputs": [],
   "source": [
    "# Initialize the training data loader, with random flipping and rotations\n",
    "dataset_train = initialize_dataset(tfrecord_files_train, batch_size=BATCH_SIZE, img_size=IMG_SIZE, flip=True, rot=(-1, 1))\n",
    "\n",
    "# Initialize the validation loader, with no flipping or rotations\n",
    "dataset_valid = initialize_dataset(tfrecord_files_valid, img_size=IMG_SIZE)"
   ]
  },
  {
   "cell_type": "code",
   "execution_count": 15,
   "id": "charming-possession",
   "metadata": {},
   "outputs": [
    {
     "name": "stdout",
     "output_type": "stream",
     "text": [
      "Model: \"sequential_5\"\n",
      "_________________________________________________________________\n",
      "Layer (type)                 Output Shape              Param #   \n",
      "=================================================================\n",
      "conv2d_2 (Conv2D)            (None, 96, 96, 32)        896       \n",
      "_________________________________________________________________\n",
      "max_pooling2d_2 (MaxPooling2 (None, 48, 48, 32)        0         \n",
      "_________________________________________________________________\n",
      "conv2d_3 (Conv2D)            (None, 48, 48, 64)        18496     \n",
      "_________________________________________________________________\n",
      "max_pooling2d_3 (MaxPooling2 (None, 24, 24, 64)        0         \n",
      "_________________________________________________________________\n",
      "flatten_1 (Flatten)          (None, 36864)             0         \n",
      "_________________________________________________________________\n",
      "dense_2 (Dense)              (None, 200)               7373000   \n",
      "_________________________________________________________________\n",
      "dense_3 (Dense)              (None, 5)                 1005      \n",
      "=================================================================\n",
      "Total params: 7,393,397\n",
      "Trainable params: 7,393,397\n",
      "Non-trainable params: 0\n",
      "_________________________________________________________________\n"
     ]
    }
   ],
   "source": [
    "# Define our baseline model to test the loader\n",
    "model = tf.keras.Sequential(layers=[\n",
    "    tf.keras.Input(shape=(*IMG_SIZE, 3)),\n",
    "    tf.keras.layers.Conv2D(filters=32, kernel_size=(3,3), padding='same', activation='relu', input_shape=(*IMG_SIZE, 3)),\n",
    "    tf.keras.layers.MaxPool2D(pool_size=(2,2)),\n",
    "    tf.keras.layers.Conv2D(filters=64, kernel_size=(3,3), padding='same', activation='relu'),\n",
    "    tf.keras.layers.MaxPool2D(pool_size=(2,2)),\n",
    "    tf.keras.layers.Flatten(),\n",
    "    tf.keras.layers.Dense(200, activation=\"relu\", kernel_initializer=\"he_normal\"),\n",
    "    tf.keras.layers.Dense(5, activation=\"softmax\", kernel_initializer=\"he_normal\")\n",
    "])\n",
    "\n",
    "# Compile the model\n",
    "model.compile(\n",
    "    loss=\"sparse_categorical_crossentropy\",\n",
    "    optimizer=tf.keras.optimizers.Adam(learning_rate=5e-5),\n",
    "    metrics=[\"accuracy\"]\n",
    ")\n",
    "\n",
    "# View a summary of the compiled model\n",
    "model.summary()"
   ]
  },
  {
   "cell_type": "code",
   "execution_count": 16,
   "id": "sought-price",
   "metadata": {},
   "outputs": [
    {
     "name": "stdout",
     "output_type": "stream",
     "text": [
      "Epoch 1/3\n",
      "58/58 [==============================] - 124s 2s/step - loss: 12.7143 - accuracy: 0.4397 - val_loss: 3.1904 - val_accuracy: 0.5302\n",
      "Epoch 2/3\n",
      "58/58 [==============================] - 124s 2s/step - loss: 2.4013 - accuracy: 0.4752 - val_loss: 2.5738 - val_accuracy: 0.5770\n",
      "Epoch 3/3\n",
      "58/58 [==============================] - 124s 2s/step - loss: 2.1357 - accuracy: 0.4880 - val_loss: 2.1603 - val_accuracy: 0.5616\n"
     ]
    }
   ],
   "source": [
    "# Run the baseline model for a few epochs to test the loader\n",
    "train_hist = model.fit(\n",
    "    x=dataset_train,\n",
    "    epochs=3,\n",
    "    validation_data=dataset_valid\n",
    ")"
   ]
  },
  {
   "cell_type": "code",
   "execution_count": null,
   "id": "acting-serve",
   "metadata": {},
   "outputs": [],
   "source": []
  }
 ],
 "metadata": {
  "kernelspec": {
   "display_name": "Python 3",
   "language": "python",
   "name": "python3"
  },
  "language_info": {
   "codemirror_mode": {
    "name": "ipython",
    "version": 3
   },
   "file_extension": ".py",
   "mimetype": "text/x-python",
   "name": "python",
   "nbconvert_exporter": "python",
   "pygments_lexer": "ipython3",
   "version": "3.8.5"
  }
 },
 "nbformat": 4,
 "nbformat_minor": 5
}
