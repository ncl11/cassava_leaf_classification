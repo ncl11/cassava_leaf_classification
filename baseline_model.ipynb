{
  "nbformat": 4,
  "nbformat_minor": 0,
  "metadata": {
    "colab": {
      "name": "baseline_model.ipynb",
      "provenance": [],
      "machine_shape": "hm"
    },
    "kernelspec": {
      "name": "python3",
      "display_name": "Python 3"
    },
    "accelerator": "GPU"
  },
  "cells": [
    {
      "cell_type": "code",
      "metadata": {
        "id": "7VQMFBHcrZl_"
      },
      "source": [
        "import pandas as pd\r\n",
        "from google.colab import drive\r\n",
        "from zipfile import ZipFile\r\n",
        "from matplotlib import pyplot as plt\r\n",
        "import PIL.Image\r\n",
        "from PIL import Image\r\n",
        "import numpy as np\r\n",
        "import pickle\r\n",
        "from sklearn.model_selection import train_test_split\r\n",
        "from sklearn.metrics import accuracy_score\r\n",
        "import random\r\n",
        "\r\n",
        "import keras\r\n",
        "from keras.layers import Dense, Dropout, Input, MaxPooling2D, ZeroPadding2D, Conv2D, Flatten\r\n",
        "from keras.models import Sequential, Model\r\n",
        "from keras.losses import categorical_crossentropy\r\n",
        "from keras.optimizers import Adam, SGD\r\n",
        "from keras.preprocessing.image import img_to_array, load_img, ImageDataGenerator\r\n",
        "from keras.utils import to_categorical\r\n",
        "from tensorflow.keras import regularizers\r\n",
        "from tensorflow.keras.layers import MaxPool2D, AveragePooling2D, GlobalAveragePooling2D\r\n",
        "from keras.losses import sparse_categorical_crossentropy"
      ],
      "execution_count": 1,
      "outputs": []
    },
    {
      "cell_type": "code",
      "metadata": {
        "colab": {
          "base_uri": "https://localhost:8080/"
        },
        "id": "fDtlOsNymrbg",
        "outputId": "afd991c5-e2a3-4200-baf8-aa0ef389299f"
      },
      "source": [
        "from google.colab import drive\r\n",
        "drive.mount('/content/drive')\r\n",
        "path = \"/content/drive/MyDrive/Data2040_midterm_project/\""
      ],
      "execution_count": 2,
      "outputs": [
        {
          "output_type": "stream",
          "text": [
            "Drive already mounted at /content/drive; to attempt to forcibly remount, call drive.mount(\"/content/drive\", force_remount=True).\n"
          ],
          "name": "stdout"
        }
      ]
    },
    {
      "cell_type": "code",
      "metadata": {
        "id": "eX4Z-rq0oXdc"
      },
      "source": [
        "archive_train = ZipFile(path + \"cassava-leaf-disease-classification.zip\", 'r')"
      ],
      "execution_count": 11,
      "outputs": []
    },
    {
      "cell_type": "code",
      "metadata": {
        "colab": {
          "base_uri": "https://localhost:8080/"
        },
        "id": "kfOzQJDjrViu",
        "outputId": "848e4f83-53e5-4e61-c1ed-54a10ffa3e8b"
      },
      "source": [
        "#nwidth, nheight, nsamples = 800, 600, 21397\r\n",
        "nwidth, nheight, nsamples = 96, 96, 21397\r\n",
        "\r\n",
        "\r\n",
        "s = (nsamples, nwidth, nheight,3) \r\n",
        "allImage = np.zeros(s)\r\n",
        "labels = np.zeros(nsamples)\r\n",
        "\r\n",
        "\r\n",
        "train_jpgs = []\r\n",
        "with ZipFile(path + \"cassava-leaf-disease-classification.zip\", 'r') as myzip:\r\n",
        "    with myzip.open('train.csv') as myfile:\r\n",
        "        labels_raw = pd.read_csv(myfile, \r\n",
        "                         header=0, sep=',', quotechar='\"')\r\n",
        "\r\n",
        "    for i in range(labels_raw.shape[0]):\r\n",
        "        jpg, label = labels_raw['image_id'][i], labels_raw['label'][i]\r\n",
        "        with myzip.open('train_images/' + jpg) as myfile:\r\n",
        "            myfile = Image.open(myfile)\r\n",
        "            #train_jpgs.append(Image.open(myfile))\r\n",
        "            myfile = myfile.resize((nwidth, nheight))\r\n",
        "            myfiles = np.array(myfile)\r\n",
        "            myfile = np.clip(myfiles / 255.0, 0.0, 1.0)\r\n",
        "            allImage[i] = myfile\r\n",
        "            labels[i] = label\r\n",
        "\r\n",
        "len(train_jpgs), allImage.shape, labels.shape"
      ],
      "execution_count": 5,
      "outputs": [
        {
          "output_type": "execute_result",
          "data": {
            "text/plain": [
              "(0, (21397, 96, 96, 3), (21397,))"
            ]
          },
          "metadata": {
            "tags": []
          },
          "execution_count": 5
        }
      ]
    },
    {
      "cell_type": "code",
      "metadata": {
        "id": "6GHn_vbFriE9"
      },
      "source": [
        "save_name = \"/content/drive/MyDrive/Data2040_midterm_project/train96x96\"\r\n",
        "pickle.dump(allImage, open( save_name + '.pickle', \"wb\" ,) ,protocol=4)\r\n",
        "pickle.dump(labels, open( save_name + 'labels' + '.pickle', \"wb\" ),protocol=4 )"
      ],
      "execution_count": 6,
      "outputs": []
    },
    {
      "cell_type": "code",
      "metadata": {
        "colab": {
          "base_uri": "https://localhost:8080/"
        },
        "id": "rBoDU7LLuW1g",
        "outputId": "41557008-296b-425f-ca29-2df06b232902"
      },
      "source": [
        "train = pickle.load( open( \"/content/drive/MyDrive/Data2040_midterm_project/train96x96.pickle\", \"rb\" ) )\r\n",
        "labels = pickle.load( open( \"/content/drive/MyDrive/Data2040_midterm_project/train96x96labels.pickle\", \"rb\" ) )\r\n",
        "print(train.shape)\r\n",
        "print(labels.shape)"
      ],
      "execution_count": 8,
      "outputs": [
        {
          "output_type": "stream",
          "text": [
            "(21397, 96, 96, 3)\n",
            "(21397,)\n"
          ],
          "name": "stdout"
        }
      ]
    },
    {
      "cell_type": "code",
      "metadata": {
        "colab": {
          "base_uri": "https://localhost:8080/"
        },
        "id": "lbkzLpvyu0nI",
        "outputId": "9a717b40-cd84-4591-c6fd-f3471fd5c6b8"
      },
      "source": [
        "random.seed(2040)\r\n",
        "X = train\r\n",
        "y = labels\r\n",
        "print(X.shape)\r\n",
        "print(y.shape)\r\n",
        "X_train, X_test, y_train, y_test = train_test_split(X, y, test_size=0.2)\r\n",
        "print(X_train.shape)\r\n",
        "print(y_train.shape)\r\n",
        "print(X_test.shape)\r\n",
        "print(y_test.shape)"
      ],
      "execution_count": 9,
      "outputs": [
        {
          "output_type": "stream",
          "text": [
            "(21397, 96, 96, 3)\n",
            "(21397,)\n",
            "(17117, 96, 96, 3)\n",
            "(17117,)\n",
            "(4280, 96, 96, 3)\n",
            "(4280,)\n"
          ],
          "name": "stdout"
        }
      ]
    },
    {
      "cell_type": "code",
      "metadata": {
        "colab": {
          "base_uri": "https://localhost:8080/"
        },
        "id": "E8FxeySwvbco",
        "outputId": "0973283c-954f-4a71-94c8-d1eceb3c1ab9"
      },
      "source": [
        "# baseline for predicting each class 0-4 for each image in both train and test\r\n",
        "for c in labels_raw['label'].unique():\r\n",
        "    y_train_pred = np.full(X_train.shape[0], c)\r\n",
        "    train_score = accuracy_score(y_train, y_train_pred)\r\n",
        "    y_test_pred = np.full(X_test.shape[0], c)\r\n",
        "    test_score = accuracy_score(y_test, y_test_pred)\r\n",
        "    print(f'predict class {c}:')\r\n",
        "    print(f'  train accuracy score: {train_score}')\r\n",
        "    print(f'  test accuracy score: {test_score}')"
      ],
      "execution_count": 10,
      "outputs": [
        {
          "output_type": "stream",
          "text": [
            "predict class 0:\n",
            "  train accuracy score: 0.05100192790792779\n",
            "  test accuracy score: 0.05\n",
            "predict class 3:\n",
            "  train accuracy score: 0.6142431500847111\n",
            "  test accuracy score: 0.6177570093457944\n",
            "predict class 1:\n",
            "  train accuracy score: 0.10194543436349827\n",
            "  test accuracy score: 0.10373831775700934\n",
            "predict class 2:\n",
            "  train accuracy score: 0.11275340304959981\n",
            "  test accuracy score: 0.10654205607476636\n",
            "predict class 4:\n",
            "  train accuracy score: 0.12005608459426301\n",
            "  test accuracy score: 0.12196261682242991\n"
          ],
          "name": "stdout"
        }
      ]
    },
    {
      "cell_type": "code",
      "metadata": {
        "colab": {
          "base_uri": "https://localhost:8080/"
        },
        "id": "XWmP1GgMvgDe",
        "outputId": "704c39b9-bc7d-4e2c-ad94-29ab07e2f248"
      },
      "source": [
        "image_resize = 96\r\n",
        "n_classes = labels_raw['label'].nunique()\r\n",
        "def build_model():\r\n",
        "  inputs = Input(shape = (image_resize, image_resize, 3))\r\n",
        "  model = Conv2D(filters=32, kernel_size=(3, 3), padding='same', activation='relu', input_shape=(image_resize, image_resize, 3))(inputs)\r\n",
        "  model = MaxPool2D(pool_size=(2, 2))(model)\r\n",
        "  model = Conv2D(filters=64, kernel_size=(3, 3), padding='same', activation='relu')(model)\r\n",
        "  model = MaxPool2D(pool_size=(2, 2))(model)\r\n",
        "  model = Flatten()(model)\r\n",
        "  model = Dense(200, activation = \"relu\", kernel_initializer=\"he_normal\")(model)\r\n",
        "  out = Dense(n_classes, activation = 'softmax')(model)\r\n",
        "  model = Model(inputs=inputs, outputs=out)\r\n",
        "  return model\r\n",
        "\r\n",
        "model = build_model()\r\n",
        "\r\n",
        "opt = keras.optimizers.Adam(learning_rate=0.00005)\r\n",
        "model.compile(loss=sparse_categorical_crossentropy,optimizer=opt,metrics=['accuracy'])\r\n",
        "model.summary()"
      ],
      "execution_count": 11,
      "outputs": [
        {
          "output_type": "stream",
          "text": [
            "Model: \"model\"\n",
            "_________________________________________________________________\n",
            "Layer (type)                 Output Shape              Param #   \n",
            "=================================================================\n",
            "input_1 (InputLayer)         [(None, 96, 96, 3)]       0         \n",
            "_________________________________________________________________\n",
            "conv2d (Conv2D)              (None, 96, 96, 32)        896       \n",
            "_________________________________________________________________\n",
            "max_pooling2d (MaxPooling2D) (None, 48, 48, 32)        0         \n",
            "_________________________________________________________________\n",
            "conv2d_1 (Conv2D)            (None, 48, 48, 64)        18496     \n",
            "_________________________________________________________________\n",
            "max_pooling2d_1 (MaxPooling2 (None, 24, 24, 64)        0         \n",
            "_________________________________________________________________\n",
            "flatten (Flatten)            (None, 36864)             0         \n",
            "_________________________________________________________________\n",
            "dense (Dense)                (None, 200)               7373000   \n",
            "_________________________________________________________________\n",
            "dense_1 (Dense)              (None, 5)                 1005      \n",
            "=================================================================\n",
            "Total params: 7,393,397\n",
            "Trainable params: 7,393,397\n",
            "Non-trainable params: 0\n",
            "_________________________________________________________________\n"
          ],
          "name": "stdout"
        }
      ]
    },
    {
      "cell_type": "code",
      "metadata": {
        "colab": {
          "base_uri": "https://localhost:8080/"
        },
        "id": "ljJsAEPpvmve",
        "outputId": "af50cf00-c96e-4093-b651-8b98c1ff62d3"
      },
      "source": [
        "history = model.fit(\r\n",
        "X_train, y_train,\r\n",
        "validation_data=(X_test, y_test),\r\n",
        "epochs=50,\r\n",
        "verbose=1,\r\n",
        "shuffle=True\r\n",
        ")"
      ],
      "execution_count": 12,
      "outputs": [
        {
          "output_type": "stream",
          "text": [
            "Epoch 1/50\n",
            "535/535 [==============================] - 9s 8ms/step - loss: 1.1598 - accuracy: 0.6102 - val_loss: 1.0766 - val_accuracy: 0.6217\n",
            "Epoch 2/50\n",
            "535/535 [==============================] - 3s 6ms/step - loss: 1.0508 - accuracy: 0.6240 - val_loss: 1.0125 - val_accuracy: 0.6285\n",
            "Epoch 3/50\n",
            "535/535 [==============================] - 3s 6ms/step - loss: 0.9784 - accuracy: 0.6370 - val_loss: 0.9835 - val_accuracy: 0.6400\n",
            "Epoch 4/50\n",
            "535/535 [==============================] - 3s 6ms/step - loss: 0.9322 - accuracy: 0.6570 - val_loss: 0.9646 - val_accuracy: 0.6458\n",
            "Epoch 5/50\n",
            "535/535 [==============================] - 3s 6ms/step - loss: 0.9060 - accuracy: 0.6659 - val_loss: 0.9692 - val_accuracy: 0.6477\n",
            "Epoch 6/50\n",
            "535/535 [==============================] - 3s 6ms/step - loss: 0.8863 - accuracy: 0.6714 - val_loss: 0.9607 - val_accuracy: 0.6486\n",
            "Epoch 7/50\n",
            "535/535 [==============================] - 3s 6ms/step - loss: 0.8549 - accuracy: 0.6803 - val_loss: 0.9445 - val_accuracy: 0.6477\n",
            "Epoch 8/50\n",
            "535/535 [==============================] - 3s 6ms/step - loss: 0.8230 - accuracy: 0.6908 - val_loss: 0.9586 - val_accuracy: 0.6495\n",
            "Epoch 9/50\n",
            "535/535 [==============================] - 3s 6ms/step - loss: 0.7858 - accuracy: 0.7091 - val_loss: 0.9456 - val_accuracy: 0.6502\n",
            "Epoch 10/50\n",
            "535/535 [==============================] - 3s 6ms/step - loss: 0.7709 - accuracy: 0.7127 - val_loss: 0.9423 - val_accuracy: 0.6540\n",
            "Epoch 11/50\n",
            "535/535 [==============================] - 3s 6ms/step - loss: 0.7550 - accuracy: 0.7189 - val_loss: 0.9496 - val_accuracy: 0.6481\n",
            "Epoch 12/50\n",
            "535/535 [==============================] - 3s 6ms/step - loss: 0.7136 - accuracy: 0.7363 - val_loss: 0.9460 - val_accuracy: 0.6556\n",
            "Epoch 13/50\n",
            "535/535 [==============================] - 3s 6ms/step - loss: 0.6971 - accuracy: 0.7480 - val_loss: 0.9953 - val_accuracy: 0.6551\n",
            "Epoch 14/50\n",
            "535/535 [==============================] - 3s 6ms/step - loss: 0.6623 - accuracy: 0.7607 - val_loss: 0.9792 - val_accuracy: 0.6264\n",
            "Epoch 15/50\n",
            "535/535 [==============================] - 3s 6ms/step - loss: 0.6604 - accuracy: 0.7598 - val_loss: 0.9609 - val_accuracy: 0.6491\n",
            "Epoch 16/50\n",
            "535/535 [==============================] - 3s 6ms/step - loss: 0.6110 - accuracy: 0.7817 - val_loss: 0.9627 - val_accuracy: 0.6486\n",
            "Epoch 17/50\n",
            "535/535 [==============================] - 3s 6ms/step - loss: 0.5912 - accuracy: 0.7912 - val_loss: 1.0036 - val_accuracy: 0.6180\n",
            "Epoch 18/50\n",
            "535/535 [==============================] - 3s 6ms/step - loss: 0.5707 - accuracy: 0.8041 - val_loss: 0.9986 - val_accuracy: 0.6558\n",
            "Epoch 19/50\n",
            "535/535 [==============================] - 3s 6ms/step - loss: 0.5411 - accuracy: 0.8148 - val_loss: 0.9960 - val_accuracy: 0.6491\n",
            "Epoch 20/50\n",
            "535/535 [==============================] - 3s 6ms/step - loss: 0.5189 - accuracy: 0.8242 - val_loss: 1.0660 - val_accuracy: 0.6516\n",
            "Epoch 21/50\n",
            "535/535 [==============================] - 3s 6ms/step - loss: 0.4942 - accuracy: 0.8344 - val_loss: 1.0200 - val_accuracy: 0.6495\n",
            "Epoch 22/50\n",
            "535/535 [==============================] - 3s 6ms/step - loss: 0.4732 - accuracy: 0.8472 - val_loss: 1.0452 - val_accuracy: 0.6110\n",
            "Epoch 23/50\n",
            "535/535 [==============================] - 3s 6ms/step - loss: 0.4467 - accuracy: 0.8583 - val_loss: 1.0299 - val_accuracy: 0.6339\n",
            "Epoch 24/50\n",
            "535/535 [==============================] - 3s 6ms/step - loss: 0.4086 - accuracy: 0.8724 - val_loss: 1.0501 - val_accuracy: 0.6449\n",
            "Epoch 25/50\n",
            "535/535 [==============================] - 3s 6ms/step - loss: 0.4070 - accuracy: 0.8732 - val_loss: 1.0846 - val_accuracy: 0.6442\n",
            "Epoch 26/50\n",
            "535/535 [==============================] - 3s 6ms/step - loss: 0.3760 - accuracy: 0.8909 - val_loss: 1.1091 - val_accuracy: 0.5923\n",
            "Epoch 27/50\n",
            "535/535 [==============================] - 3s 6ms/step - loss: 0.3500 - accuracy: 0.9018 - val_loss: 1.1197 - val_accuracy: 0.6463\n",
            "Epoch 28/50\n",
            "535/535 [==============================] - 3s 6ms/step - loss: 0.3282 - accuracy: 0.9073 - val_loss: 1.1037 - val_accuracy: 0.6255\n",
            "Epoch 29/50\n",
            "535/535 [==============================] - 3s 6ms/step - loss: 0.3101 - accuracy: 0.9159 - val_loss: 1.1314 - val_accuracy: 0.6348\n",
            "Epoch 30/50\n",
            "535/535 [==============================] - 3s 6ms/step - loss: 0.2853 - accuracy: 0.9254 - val_loss: 1.1529 - val_accuracy: 0.6273\n",
            "Epoch 31/50\n",
            "535/535 [==============================] - 3s 6ms/step - loss: 0.2710 - accuracy: 0.9314 - val_loss: 1.2844 - val_accuracy: 0.6488\n",
            "Epoch 32/50\n",
            "535/535 [==============================] - 3s 6ms/step - loss: 0.2530 - accuracy: 0.9363 - val_loss: 1.2025 - val_accuracy: 0.6199\n",
            "Epoch 33/50\n",
            "535/535 [==============================] - 3s 6ms/step - loss: 0.2280 - accuracy: 0.9493 - val_loss: 1.2503 - val_accuracy: 0.6397\n",
            "Epoch 34/50\n",
            "535/535 [==============================] - 3s 6ms/step - loss: 0.2130 - accuracy: 0.9529 - val_loss: 1.2813 - val_accuracy: 0.6124\n",
            "Epoch 35/50\n",
            "535/535 [==============================] - 3s 6ms/step - loss: 0.1929 - accuracy: 0.9612 - val_loss: 1.2758 - val_accuracy: 0.6364\n",
            "Epoch 36/50\n",
            "535/535 [==============================] - 3s 6ms/step - loss: 0.1786 - accuracy: 0.9652 - val_loss: 1.4249 - val_accuracy: 0.6474\n",
            "Epoch 37/50\n",
            "535/535 [==============================] - 3s 6ms/step - loss: 0.1612 - accuracy: 0.9735 - val_loss: 1.3206 - val_accuracy: 0.6164\n",
            "Epoch 38/50\n",
            "535/535 [==============================] - 3s 6ms/step - loss: 0.1592 - accuracy: 0.9726 - val_loss: 1.3521 - val_accuracy: 0.6245\n",
            "Epoch 39/50\n",
            "535/535 [==============================] - 3s 6ms/step - loss: 0.1353 - accuracy: 0.9817 - val_loss: 1.4072 - val_accuracy: 0.6360\n",
            "Epoch 40/50\n",
            "535/535 [==============================] - 3s 6ms/step - loss: 0.1198 - accuracy: 0.9853 - val_loss: 1.4177 - val_accuracy: 0.6273\n",
            "Epoch 41/50\n",
            "535/535 [==============================] - 3s 6ms/step - loss: 0.1078 - accuracy: 0.9898 - val_loss: 1.4880 - val_accuracy: 0.6320\n",
            "Epoch 42/50\n",
            "535/535 [==============================] - 3s 6ms/step - loss: 0.1023 - accuracy: 0.9887 - val_loss: 1.5243 - val_accuracy: 0.6362\n",
            "Epoch 43/50\n",
            "535/535 [==============================] - 3s 6ms/step - loss: 0.0865 - accuracy: 0.9929 - val_loss: 1.4880 - val_accuracy: 0.5981\n",
            "Epoch 44/50\n",
            "535/535 [==============================] - 3s 6ms/step - loss: 0.0790 - accuracy: 0.9940 - val_loss: 1.4993 - val_accuracy: 0.6026\n",
            "Epoch 45/50\n",
            "535/535 [==============================] - 3s 6ms/step - loss: 0.0731 - accuracy: 0.9961 - val_loss: 1.5541 - val_accuracy: 0.5897\n",
            "Epoch 46/50\n",
            "535/535 [==============================] - 3s 6ms/step - loss: 0.0620 - accuracy: 0.9959 - val_loss: 1.5969 - val_accuracy: 0.6150\n",
            "Epoch 47/50\n",
            "535/535 [==============================] - 3s 6ms/step - loss: 0.0577 - accuracy: 0.9970 - val_loss: 1.7302 - val_accuracy: 0.6416\n",
            "Epoch 48/50\n",
            "535/535 [==============================] - 3s 6ms/step - loss: 0.0492 - accuracy: 0.9976 - val_loss: 1.6794 - val_accuracy: 0.5787\n",
            "Epoch 49/50\n",
            "535/535 [==============================] - 3s 6ms/step - loss: 0.0495 - accuracy: 0.9969 - val_loss: 1.6756 - val_accuracy: 0.5923\n",
            "Epoch 50/50\n",
            "535/535 [==============================] - 3s 6ms/step - loss: 0.0367 - accuracy: 0.9995 - val_loss: 1.7391 - val_accuracy: 0.6105\n"
          ],
          "name": "stdout"
        }
      ]
    },
    {
      "cell_type": "code",
      "metadata": {
        "id": "3FWTMdZ4AMj3"
      },
      "source": [
        ""
      ],
      "execution_count": null,
      "outputs": []
    },
    {
      "cell_type": "code",
      "metadata": {
        "id": "NGPlvLS1AQwS"
      },
      "source": [
        ""
      ],
      "execution_count": null,
      "outputs": []
    }
  ]
}