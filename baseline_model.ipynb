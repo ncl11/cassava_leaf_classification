{
 "cells": [
  {
   "cell_type": "code",
   "execution_count": 1,
   "metadata": {
    "id": "7VQMFBHcrZl_"
   },
   "outputs": [],
   "source": [
    "import pandas as pd\n",
    "from google.colab import drive\n",
    "from zipfile import ZipFile\n",
    "from matplotlib import pyplot as plt\n",
    "import PIL.Image\n",
    "from PIL import Image\n",
    "import numpy as np\n",
    "import pickle\n",
    "from sklearn.model_selection import train_test_split\n",
    "from sklearn.metrics import accuracy_score\n",
    "import random\n",
    "\n",
    "import keras\n",
    "from keras.layers import Dense, Dropout, Input, MaxPooling2D, ZeroPadding2D, Conv2D, Flatten\n",
    "from keras.models import Sequential, Model\n",
    "from keras.losses import categorical_crossentropy\n",
    "from keras.optimizers import Adam, SGD\n",
    "from keras.preprocessing.image import img_to_array, load_img, ImageDataGenerator\n",
    "from keras.utils import to_categorical\n",
    "from tensorflow.keras import regularizers\n",
    "from tensorflow.keras.layers import MaxPool2D, AveragePooling2D, GlobalAveragePooling2D\n",
    "from keras.losses import sparse_categorical_crossentropy"
   ]
  },
  {
   "cell_type": "code",
   "execution_count": 2,
   "metadata": {
    "colab": {
     "base_uri": "https://localhost:8080/"
    },
    "id": "fDtlOsNymrbg",
    "outputId": "afd991c5-e2a3-4200-baf8-aa0ef389299f"
   },
   "outputs": [
    {
     "name": "stdout",
     "output_type": "stream",
     "text": [
      "Drive already mounted at /content/drive; to attempt to forcibly remount, call drive.mount(\"/content/drive\", force_remount=True).\n"
     ]
    }
   ],
   "source": [
    "from google.colab import drive\n",
    "drive.mount('/content/drive')\n",
    "path = \"/content/drive/MyDrive/Data2040_midterm_project/\""
   ]
  },
  {
   "cell_type": "code",
   "execution_count": 11,
   "metadata": {
    "id": "eX4Z-rq0oXdc"
   },
   "outputs": [],
   "source": [
    "archive_train = ZipFile(path + \"cassava-leaf-disease-classification.zip\", 'r')"
   ]
  },
  {
   "cell_type": "code",
   "execution_count": 5,
   "metadata": {
    "colab": {
     "base_uri": "https://localhost:8080/"
    },
    "id": "kfOzQJDjrViu",
    "outputId": "848e4f83-53e5-4e61-c1ed-54a10ffa3e8b"
   },
   "outputs": [
    {
     "data": {
      "text/plain": [
       "(0, (21397, 96, 96, 3), (21397,))"
      ]
     },
     "execution_count": 5,
     "metadata": {
      "tags": []
     },
     "output_type": "execute_result"
    }
   ],
   "source": [
    "#nwidth, nheight, nsamples = 800, 600, 21397\n",
    "nwidth, nheight, nsamples = 96, 96, 21397\n",
    "\n",
    "\n",
    "s = (nsamples, nwidth, nheight,3) \n",
    "allImage = np.zeros(s)\n",
    "labels = np.zeros(nsamples)\n",
    "\n",
    "\n",
    "train_jpgs = []\n",
    "with ZipFile(path + \"cassava-leaf-disease-classification.zip\", 'r') as myzip:\n",
    "    with myzip.open('train.csv') as myfile:\n",
    "        labels_raw = pd.read_csv(myfile, \n",
    "                         header=0, sep=',', quotechar='\"')\n",
    "\n",
    "    for i in range(labels_raw.shape[0]):\n",
    "        jpg, label = labels_raw['image_id'][i], labels_raw['label'][i]\n",
    "        with myzip.open('train_images/' + jpg) as myfile:\n",
    "            myfile = Image.open(myfile)\n",
    "            #train_jpgs.append(Image.open(myfile))\n",
    "            myfile = myfile.resize((nwidth, nheight))\n",
    "            myfiles = np.array(myfile)\n",
    "            myfile = np.clip(myfiles / 255.0, 0.0, 1.0)\n",
    "            allImage[i] = myfile\n",
    "            labels[i] = label\n",
    "\n",
    "len(train_jpgs), allImage.shape, labels.shape"
   ]
  },
  {
   "cell_type": "code",
   "execution_count": 6,
   "metadata": {
    "id": "6GHn_vbFriE9"
   },
   "outputs": [],
   "source": [
    "save_name = \"/content/drive/MyDrive/Data2040_midterm_project/train96x96\"\n",
    "pickle.dump(allImage, open( save_name + '.pickle', \"wb\" ,) ,protocol=4)\n",
    "pickle.dump(labels, open( save_name + 'labels' + '.pickle', \"wb\" ),protocol=4 )"
   ]
  },
  {
   "cell_type": "code",
   "execution_count": 8,
   "metadata": {
    "colab": {
     "base_uri": "https://localhost:8080/"
    },
    "id": "rBoDU7LLuW1g",
    "outputId": "41557008-296b-425f-ca29-2df06b232902"
   },
   "outputs": [
    {
     "name": "stdout",
     "output_type": "stream",
     "text": [
      "(21397, 96, 96, 3)\n",
      "(21397,)\n"
     ]
    }
   ],
   "source": [
    "train = pickle.load( open( \"/content/drive/MyDrive/Data2040_midterm_project/train96x96.pickle\", \"rb\" ) )\n",
    "labels = pickle.load( open( \"/content/drive/MyDrive/Data2040_midterm_project/train96x96labels.pickle\", \"rb\" ) )\n",
    "print(train.shape)\n",
    "print(labels.shape)"
   ]
  },
  {
   "cell_type": "code",
   "execution_count": 9,
   "metadata": {
    "colab": {
     "base_uri": "https://localhost:8080/"
    },
    "id": "lbkzLpvyu0nI",
    "outputId": "9a717b40-cd84-4591-c6fd-f3471fd5c6b8"
   },
   "outputs": [
    {
     "name": "stdout",
     "output_type": "stream",
     "text": [
      "(21397, 96, 96, 3)\n",
      "(21397,)\n",
      "(17117, 96, 96, 3)\n",
      "(17117,)\n",
      "(4280, 96, 96, 3)\n",
      "(4280,)\n"
     ]
    }
   ],
   "source": [
    "random.seed(2040)\n",
    "X = train\n",
    "y = labels\n",
    "print(X.shape)\n",
    "print(y.shape)\n",
    "X_train, X_test, y_train, y_test = train_test_split(X, y, test_size=0.2)\n",
    "print(X_train.shape)\n",
    "print(y_train.shape)\n",
    "print(X_test.shape)\n",
    "print(y_test.shape)"
   ]
  },
  {
   "cell_type": "code",
   "execution_count": 10,
   "metadata": {
    "colab": {
     "base_uri": "https://localhost:8080/"
    },
    "id": "E8FxeySwvbco",
    "outputId": "0973283c-954f-4a71-94c8-d1eceb3c1ab9"
   },
   "outputs": [
    {
     "name": "stdout",
     "output_type": "stream",
     "text": [
      "predict class 0:\n",
      "  train accuracy score: 0.05100192790792779\n",
      "  test accuracy score: 0.05\n",
      "predict class 3:\n",
      "  train accuracy score: 0.6142431500847111\n",
      "  test accuracy score: 0.6177570093457944\n",
      "predict class 1:\n",
      "  train accuracy score: 0.10194543436349827\n",
      "  test accuracy score: 0.10373831775700934\n",
      "predict class 2:\n",
      "  train accuracy score: 0.11275340304959981\n",
      "  test accuracy score: 0.10654205607476636\n",
      "predict class 4:\n",
      "  train accuracy score: 0.12005608459426301\n",
      "  test accuracy score: 0.12196261682242991\n"
     ]
    }
   ],
   "source": [
    "# baseline for predicting each class 0-4 for each image in both train and test\n",
    "for c in labels_raw['label'].unique():\n",
    "    y_train_pred = np.full(X_train.shape[0], c)\n",
    "    train_score = accuracy_score(y_train, y_train_pred)\n",
    "    y_test_pred = np.full(X_test.shape[0], c)\n",
    "    test_score = accuracy_score(y_test, y_test_pred)\n",
    "    print(f'predict class {c}:')\n",
    "    print(f'  train accuracy score: {train_score}')\n",
    "    print(f'  test accuracy score: {test_score}')"
   ]
  },
  {
   "cell_type": "code",
   "execution_count": 11,
   "metadata": {
    "colab": {
     "base_uri": "https://localhost:8080/"
    },
    "id": "XWmP1GgMvgDe",
    "outputId": "704c39b9-bc7d-4e2c-ad94-29ab07e2f248"
   },
   "outputs": [
    {
     "name": "stdout",
     "output_type": "stream",
     "text": [
      "Model: \"model\"\n",
      "_________________________________________________________________\n",
      "Layer (type)                 Output Shape              Param #   \n",
      "=================================================================\n",
      "input_1 (InputLayer)         [(None, 96, 96, 3)]       0         \n",
      "_________________________________________________________________\n",
      "conv2d (Conv2D)              (None, 96, 96, 32)        896       \n",
      "_________________________________________________________________\n",
      "max_pooling2d (MaxPooling2D) (None, 48, 48, 32)        0         \n",
      "_________________________________________________________________\n",
      "conv2d_1 (Conv2D)            (None, 48, 48, 64)        18496     \n",
      "_________________________________________________________________\n",
      "max_pooling2d_1 (MaxPooling2 (None, 24, 24, 64)        0         \n",
      "_________________________________________________________________\n",
      "flatten (Flatten)            (None, 36864)             0         \n",
      "_________________________________________________________________\n",
      "dense (Dense)                (None, 200)               7373000   \n",
      "_________________________________________________________________\n",
      "dense_1 (Dense)              (None, 5)                 1005      \n",
      "=================================================================\n",
      "Total params: 7,393,397\n",
      "Trainable params: 7,393,397\n",
      "Non-trainable params: 0\n",
      "_________________________________________________________________\n"
     ]
    }
   ],
   "source": [
    "image_resize = 96\n",
    "n_classes = labels_raw['label'].nunique()\n",
    "def build_model():\n",
    "  inputs = Input(shape = (image_resize, image_resize, 3))\n",
    "  model = Conv2D(filters=32, kernel_size=(3, 3), padding='same', activation='relu', input_shape=(image_resize, image_resize, 3))(inputs)\n",
    "  model = MaxPool2D(pool_size=(2, 2))(model)\n",
    "  model = Conv2D(filters=64, kernel_size=(3, 3), padding='same', activation='relu')(model)\n",
    "  model = MaxPool2D(pool_size=(2, 2))(model)\n",
    "  model = Flatten()(model)\n",
    "  model = Dense(200, activation = \"relu\", kernel_initializer=\"he_normal\")(model)\n",
    "  out = Dense(n_classes, activation = 'softmax')(model)\n",
    "  model = Model(inputs=inputs, outputs=out)\n",
    "  return model\n",
    "\n",
    "model = build_model()\n",
    "\n",
    "opt = keras.optimizers.Adam(learning_rate=0.00005)\n",
    "model.compile(loss=sparse_categorical_crossentropy,optimizer=opt,metrics=['accuracy'])\n",
    "model.summary()"
   ]
  },
  {
   "cell_type": "code",
   "execution_count": 12,
   "metadata": {
    "colab": {
     "base_uri": "https://localhost:8080/"
    },
    "id": "ljJsAEPpvmve",
    "outputId": "af50cf00-c96e-4093-b651-8b98c1ff62d3"
   },
   "outputs": [
    {
     "name": "stdout",
     "output_type": "stream",
     "text": [
      "Epoch 1/50\n",
      "535/535 [==============================] - 9s 8ms/step - loss: 1.1598 - accuracy: 0.6102 - val_loss: 1.0766 - val_accuracy: 0.6217\n",
      "Epoch 2/50\n",
      "535/535 [==============================] - 3s 6ms/step - loss: 1.0508 - accuracy: 0.6240 - val_loss: 1.0125 - val_accuracy: 0.6285\n",
      "Epoch 3/50\n",
      "535/535 [==============================] - 3s 6ms/step - loss: 0.9784 - accuracy: 0.6370 - val_loss: 0.9835 - val_accuracy: 0.6400\n",
      "Epoch 4/50\n",
      "535/535 [==============================] - 3s 6ms/step - loss: 0.9322 - accuracy: 0.6570 - val_loss: 0.9646 - val_accuracy: 0.6458\n",
      "Epoch 5/50\n",
      "535/535 [==============================] - 3s 6ms/step - loss: 0.9060 - accuracy: 0.6659 - val_loss: 0.9692 - val_accuracy: 0.6477\n",
      "Epoch 6/50\n",
      "535/535 [==============================] - 3s 6ms/step - loss: 0.8863 - accuracy: 0.6714 - val_loss: 0.9607 - val_accuracy: 0.6486\n",
      "Epoch 7/50\n",
      "535/535 [==============================] - 3s 6ms/step - loss: 0.8549 - accuracy: 0.6803 - val_loss: 0.9445 - val_accuracy: 0.6477\n",
      "Epoch 8/50\n",
      "535/535 [==============================] - 3s 6ms/step - loss: 0.8230 - accuracy: 0.6908 - val_loss: 0.9586 - val_accuracy: 0.6495\n",
      "Epoch 9/50\n",
      "535/535 [==============================] - 3s 6ms/step - loss: 0.7858 - accuracy: 0.7091 - val_loss: 0.9456 - val_accuracy: 0.6502\n",
      "Epoch 10/50\n",
      "535/535 [==============================] - 3s 6ms/step - loss: 0.7709 - accuracy: 0.7127 - val_loss: 0.9423 - val_accuracy: 0.6540\n",
      "Epoch 11/50\n",
      "535/535 [==============================] - 3s 6ms/step - loss: 0.7550 - accuracy: 0.7189 - val_loss: 0.9496 - val_accuracy: 0.6481\n",
      "Epoch 12/50\n",
      "535/535 [==============================] - 3s 6ms/step - loss: 0.7136 - accuracy: 0.7363 - val_loss: 0.9460 - val_accuracy: 0.6556\n",
      "Epoch 13/50\n",
      "535/535 [==============================] - 3s 6ms/step - loss: 0.6971 - accuracy: 0.7480 - val_loss: 0.9953 - val_accuracy: 0.6551\n",
      "Epoch 14/50\n",
      "535/535 [==============================] - 3s 6ms/step - loss: 0.6623 - accuracy: 0.7607 - val_loss: 0.9792 - val_accuracy: 0.6264\n",
      "Epoch 15/50\n",
      "535/535 [==============================] - 3s 6ms/step - loss: 0.6604 - accuracy: 0.7598 - val_loss: 0.9609 - val_accuracy: 0.6491\n",
      "Epoch 16/50\n",
      "535/535 [==============================] - 3s 6ms/step - loss: 0.6110 - accuracy: 0.7817 - val_loss: 0.9627 - val_accuracy: 0.6486\n",
      "Epoch 17/50\n",
      "535/535 [==============================] - 3s 6ms/step - loss: 0.5912 - accuracy: 0.7912 - val_loss: 1.0036 - val_accuracy: 0.6180\n",
      "Epoch 18/50\n",
      "535/535 [==============================] - 3s 6ms/step - loss: 0.5707 - accuracy: 0.8041 - val_loss: 0.9986 - val_accuracy: 0.6558\n",
      "Epoch 19/50\n",
      "535/535 [==============================] - 3s 6ms/step - loss: 0.5411 - accuracy: 0.8148 - val_loss: 0.9960 - val_accuracy: 0.6491\n",
      "Epoch 20/50\n",
      "535/535 [==============================] - 3s 6ms/step - loss: 0.5189 - accuracy: 0.8242 - val_loss: 1.0660 - val_accuracy: 0.6516\n",
      "Epoch 21/50\n",
      "535/535 [==============================] - 3s 6ms/step - loss: 0.4942 - accuracy: 0.8344 - val_loss: 1.0200 - val_accuracy: 0.6495\n",
      "Epoch 22/50\n",
      "535/535 [==============================] - 3s 6ms/step - loss: 0.4732 - accuracy: 0.8472 - val_loss: 1.0452 - val_accuracy: 0.6110\n",
      "Epoch 23/50\n",
      "535/535 [==============================] - 3s 6ms/step - loss: 0.4467 - accuracy: 0.8583 - val_loss: 1.0299 - val_accuracy: 0.6339\n",
      "Epoch 24/50\n",
      "535/535 [==============================] - 3s 6ms/step - loss: 0.4086 - accuracy: 0.8724 - val_loss: 1.0501 - val_accuracy: 0.6449\n",
      "Epoch 25/50\n",
      "535/535 [==============================] - 3s 6ms/step - loss: 0.4070 - accuracy: 0.8732 - val_loss: 1.0846 - val_accuracy: 0.6442\n",
      "Epoch 26/50\n",
      "535/535 [==============================] - 3s 6ms/step - loss: 0.3760 - accuracy: 0.8909 - val_loss: 1.1091 - val_accuracy: 0.5923\n",
      "Epoch 27/50\n",
      "535/535 [==============================] - 3s 6ms/step - loss: 0.3500 - accuracy: 0.9018 - val_loss: 1.1197 - val_accuracy: 0.6463\n",
      "Epoch 28/50\n",
      "535/535 [==============================] - 3s 6ms/step - loss: 0.3282 - accuracy: 0.9073 - val_loss: 1.1037 - val_accuracy: 0.6255\n",
      "Epoch 29/50\n",
      "535/535 [==============================] - 3s 6ms/step - loss: 0.3101 - accuracy: 0.9159 - val_loss: 1.1314 - val_accuracy: 0.6348\n",
      "Epoch 30/50\n",
      "535/535 [==============================] - 3s 6ms/step - loss: 0.2853 - accuracy: 0.9254 - val_loss: 1.1529 - val_accuracy: 0.6273\n",
      "Epoch 31/50\n",
      "535/535 [==============================] - 3s 6ms/step - loss: 0.2710 - accuracy: 0.9314 - val_loss: 1.2844 - val_accuracy: 0.6488\n",
      "Epoch 32/50\n",
      "535/535 [==============================] - 3s 6ms/step - loss: 0.2530 - accuracy: 0.9363 - val_loss: 1.2025 - val_accuracy: 0.6199\n",
      "Epoch 33/50\n",
      "535/535 [==============================] - 3s 6ms/step - loss: 0.2280 - accuracy: 0.9493 - val_loss: 1.2503 - val_accuracy: 0.6397\n",
      "Epoch 34/50\n",
      "535/535 [==============================] - 3s 6ms/step - loss: 0.2130 - accuracy: 0.9529 - val_loss: 1.2813 - val_accuracy: 0.6124\n",
      "Epoch 35/50\n",
      "535/535 [==============================] - 3s 6ms/step - loss: 0.1929 - accuracy: 0.9612 - val_loss: 1.2758 - val_accuracy: 0.6364\n",
      "Epoch 36/50\n",
      "535/535 [==============================] - 3s 6ms/step - loss: 0.1786 - accuracy: 0.9652 - val_loss: 1.4249 - val_accuracy: 0.6474\n",
      "Epoch 37/50\n",
      "535/535 [==============================] - 3s 6ms/step - loss: 0.1612 - accuracy: 0.9735 - val_loss: 1.3206 - val_accuracy: 0.6164\n",
      "Epoch 38/50\n",
      "535/535 [==============================] - 3s 6ms/step - loss: 0.1592 - accuracy: 0.9726 - val_loss: 1.3521 - val_accuracy: 0.6245\n",
      "Epoch 39/50\n",
      "535/535 [==============================] - 3s 6ms/step - loss: 0.1353 - accuracy: 0.9817 - val_loss: 1.4072 - val_accuracy: 0.6360\n",
      "Epoch 40/50\n",
      "535/535 [==============================] - 3s 6ms/step - loss: 0.1198 - accuracy: 0.9853 - val_loss: 1.4177 - val_accuracy: 0.6273\n",
      "Epoch 41/50\n",
      "535/535 [==============================] - 3s 6ms/step - loss: 0.1078 - accuracy: 0.9898 - val_loss: 1.4880 - val_accuracy: 0.6320\n",
      "Epoch 42/50\n",
      "535/535 [==============================] - 3s 6ms/step - loss: 0.1023 - accuracy: 0.9887 - val_loss: 1.5243 - val_accuracy: 0.6362\n",
      "Epoch 43/50\n",
      "535/535 [==============================] - 3s 6ms/step - loss: 0.0865 - accuracy: 0.9929 - val_loss: 1.4880 - val_accuracy: 0.5981\n",
      "Epoch 44/50\n",
      "535/535 [==============================] - 3s 6ms/step - loss: 0.0790 - accuracy: 0.9940 - val_loss: 1.4993 - val_accuracy: 0.6026\n",
      "Epoch 45/50\n",
      "535/535 [==============================] - 3s 6ms/step - loss: 0.0731 - accuracy: 0.9961 - val_loss: 1.5541 - val_accuracy: 0.5897\n",
      "Epoch 46/50\n",
      "535/535 [==============================] - 3s 6ms/step - loss: 0.0620 - accuracy: 0.9959 - val_loss: 1.5969 - val_accuracy: 0.6150\n",
      "Epoch 47/50\n",
      "535/535 [==============================] - 3s 6ms/step - loss: 0.0577 - accuracy: 0.9970 - val_loss: 1.7302 - val_accuracy: 0.6416\n",
      "Epoch 48/50\n",
      "535/535 [==============================] - 3s 6ms/step - loss: 0.0492 - accuracy: 0.9976 - val_loss: 1.6794 - val_accuracy: 0.5787\n",
      "Epoch 49/50\n",
      "535/535 [==============================] - 3s 6ms/step - loss: 0.0495 - accuracy: 0.9969 - val_loss: 1.6756 - val_accuracy: 0.5923\n",
      "Epoch 50/50\n",
      "535/535 [==============================] - 3s 6ms/step - loss: 0.0367 - accuracy: 0.9995 - val_loss: 1.7391 - val_accuracy: 0.6105\n"
     ]
    }
   ],
   "source": [
    "history = model.fit(\n",
    "X_train, y_train,\n",
    "validation_data=(X_test, y_test),\n",
    "epochs=50,\n",
    "verbose=1,\n",
    "shuffle=True\n",
    ")"
   ]
  },
  {
   "cell_type": "code",
   "execution_count": null,
   "metadata": {
    "id": "3FWTMdZ4AMj3"
   },
   "outputs": [],
   "source": []
  },
  {
   "cell_type": "code",
   "execution_count": null,
   "metadata": {
    "id": "NGPlvLS1AQwS"
   },
   "outputs": [],
   "source": []
  }
 ],
 "metadata": {
  "accelerator": "GPU",
  "colab": {
   "machine_shape": "hm",
   "name": "baseline_model.ipynb",
   "provenance": []
  },
  "kernelspec": {
   "display_name": "Python 3",
   "language": "python",
   "name": "python3"
  },
  "language_info": {
   "codemirror_mode": {
    "name": "ipython",
    "version": 3
   },
   "file_extension": ".py",
   "mimetype": "text/x-python",
   "name": "python",
   "nbconvert_exporter": "python",
   "pygments_lexer": "ipython3",
   "version": "3.8.3"
  }
 },
 "nbformat": 4,
 "nbformat_minor": 1
}
